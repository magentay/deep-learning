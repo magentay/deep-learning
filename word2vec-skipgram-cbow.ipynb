{
 "cells": [
  {
   "cell_type": "code",
   "execution_count": 1,
   "metadata": {},
   "outputs": [
    {
     "data": {
      "text/plain": [
       "{'.': 7,\n",
       " 'I': 0,\n",
       " 'NLP': 5,\n",
       " 'deep': 3,\n",
       " 'enjoy': 2,\n",
       " 'flying': 6,\n",
       " 'learning': 4,\n",
       " 'like': 1}"
      ]
     },
     "execution_count": 1,
     "metadata": {},
     "output_type": "execute_result"
    }
   ],
   "source": [
    "import numpy as np\n",
    "la = np.linalg\n",
    "\n",
    "s1 = 'I like deep learning.'\n",
    "s2 = 'I like NLP.'\n",
    "s3 = 'I enjoy flying.'\n",
    "\n",
    "words = ['I', 'like', 'enjoy', 'deep', 'learning', 'NLP', 'flying','.']\n",
    "vocab = dict([(x, y) for (y, x) in enumerate(words)])\n",
    "vocab"
   ]
  },
  {
   "cell_type": "code",
   "execution_count": 2,
   "metadata": {
    "collapsed": true
   },
   "outputs": [],
   "source": [
    "import re\n",
    "def tokenizer(s):\n",
    "    _WORD_SPLIT = re.compile(\"([.,!?\\\"':;)(])\")\n",
    "    sentences = re.split(_WORD_SPLIT,s )\n",
    "    words = []\n",
    "    for sentence in sentences:\n",
    "        if sentence:\n",
    "            words += sentence.strip().split()\n",
    "    return words\n"
   ]
  },
  {
   "cell_type": "code",
   "execution_count": 3,
   "metadata": {},
   "outputs": [
    {
     "data": {
      "text/plain": [
       "array([[0., 1., 2., 0., 0., 0., 0., 0.],\n",
       "       [1., 0., 0., 1., 0., 0., 0., 0.],\n",
       "       [2., 0., 0., 0., 0., 0., 2., 0.],\n",
       "       [0., 1., 0., 0., 1., 0., 0., 0.],\n",
       "       [0., 0., 0., 1., 0., 0., 0., 1.],\n",
       "       [0., 0., 0., 0., 0., 0., 0., 0.],\n",
       "       [0., 0., 2., 0., 0., 0., 0., 2.],\n",
       "       [0., 0., 0., 0., 1., 0., 2., 0.]])"
      ]
     },
     "execution_count": 3,
     "metadata": {},
     "output_type": "execute_result"
    }
   ],
   "source": [
    "# window based co-occurrence matrix\n",
    "window = 2\n",
    "X = np.zeros((len(words), len(words)))\n",
    "\n",
    "for s in [s1, s3, s3]:\n",
    "    toks = tokenizer(s)\n",
    "\n",
    "    for i in range(len(toks)-1):\n",
    "        word_i = vocab[toks[i]]\n",
    "        for j in range(i+1, min(i+window,len(toks))):\n",
    "            word_j = vocab[toks[j]]\n",
    "            X[word_i][word_j] += 1\n",
    "            X[word_j][word_i] += 1\n",
    "                       \n",
    "X"
   ]
  },
  {
   "cell_type": "code",
   "execution_count": 4,
   "metadata": {
    "collapsed": true
   },
   "outputs": [],
   "source": [
    "U, s, Vh = la.svd(X, full_matrices = False)"
   ]
  },
  {
   "cell_type": "code",
   "execution_count": 5,
   "metadata": {
    "scrolled": true
   },
   "outputs": [
    {
     "data": {
      "image/png": "[encoded data removed]",
      "text/plain": [
       "<matplotlib.figure.Figure at 0x7f07eca71b38>"
      ]
     },
     "metadata": {},
     "output_type": "display_data"
    }
   ],
   "source": [
    "import matplotlib.pyplot as plt\n",
    "%matplotlib inline\n",
    "\n",
    "plt.plot(U[:,0], U[:,1], '.')\n",
    "\n",
    "for i in range(len(words)):\n",
    "    plt.text(U[i,0], U[i,1], words[i])"
   ]
  },
  {
   "cell_type": "markdown",
   "metadata": {},
   "source": [
    "# The simple word2vec model\n",
    "\n",
    "cost function J\n",
    "\n",
    "$J(\\theta) = \\frac{1}{T}\\sum^T_{t=1} \\sum_{-c\\leq j\\leq c, j\\neq 0} \\log p(w_{t+j} \\big|w_{t})$\n",
    "\n",
    "with probabilities defined as: $p(w_O | w_I) = \\frac{exp({v^{'}_{w_o}}^T v_{w_I})} {\\sum_{w=1}^W exp({v^{'}_{w_o}}^T v_{w_I})}$\n",
    "\n",
    "main idea: train binary logistic regressions for a\ttrue pair (center word and word in its context window) and a couple\tof random pairs\t(the center\tword with a\trandom\tword)\t\n",
    "\n",
    "<img style=\"left;\" src=\"img_files\\skipgram1.png\">\n",
    "\n",
    "\n",
    "## Subsampling Frequent Words\n",
    "\n",
    "\n",
    "## Sampling rate\n",
    "\n",
    "* calculating a probability with which to keep a given word in the vocabulary.\n",
    "$P(w_i) = (\\sqrt{\\frac{z(w_i)}{0.001}} + 1) \\cdot\\frac{0.001}{z(w_i)}$\n",
    "* $w_i$ is the word, $z(w_i)$ is the fraction of the total words in the corpus that are that word.\n",
    "\n",
    "## Negative Sampling\n",
    "\n",
    "* having each training sample only modify a small percentage of the weights, rather than all of them.\n",
    "\n",
    "* Essentially, the probability for selecting a word as a negative sample is related to its frequency, with more frequent words being more likely to be selected as negative samples.\n",
    "$P(w_i) = \\frac{f(w_i)^{3/4}}{\\sum_{j=0}^n (f(w_j)*{3/4})}$\n",
    "\n",
    "\n"
   ]
  },
  {
   "cell_type": "code",
   "execution_count": 6,
   "metadata": {},
   "outputs": [],
   "source": [
    "def get_train(s):\n",
    "    \n",
    "    X = []\n",
    "    Y = []\n",
    "    labels = []\n",
    "    for l in s:\n",
    "        toks = tokenizer(l)\n",
    "        for i, tok in enumerate(toks):\n",
    "            if i+1<len(toks):\n",
    "                X.append(vocab[tok])\n",
    "                Y.append(vocab[toks[i+1]])\n",
    "                labels.append(1)\n",
    "            if i-1>=0:\n",
    "                X.append(vocab[tok])\n",
    "                Y.append(vocab[toks[i-1]])\n",
    "                labels.append(1)\n",
    "           \n",
    "            idxs = []\n",
    "            \n",
    "            # negative sampling\n",
    "            while 1:\n",
    "                idx = np.random.randint(len(vocab))\n",
    "                if idx not in idxs and words[idx] not in toks:\n",
    "                    idxs.append(idx)\n",
    "                if len(idxs)>=2:\n",
    "                    break\n",
    "                        \n",
    "            for idx in idxs:\n",
    "                X.append(vocab[tok])\n",
    "                Y.append(idx)\n",
    "                labels.append(0)\n",
    "         \n",
    "    return np.array(X), np.array( Y), labels \n",
    "                \n",
    "        \n",
    "X, y, labels = get_train([s1,s2,s3])"
   ]
  },
  {
   "cell_type": "code",
   "execution_count": 7,
   "metadata": {},
   "outputs": [
    {
     "name": "stderr",
     "output_type": "stream",
     "text": [
      "/usr/lib/python3/dist-packages/h5py/__init__.py:34: FutureWarning: Conversion of the second argument of issubdtype from `float` to `np.floating` is deprecated. In future, it will be treated as `np.float64 == np.dtype(float).type`.\n",
      "  from ._conv import register_converters as _register_converters\n",
      "Using TensorFlow backend.\n"
     ]
    },
    {
     "name": "stdout",
     "output_type": "stream",
     "text": [
      "____________________________________________________________________________________________________\n",
      "Layer (type)                     Output Shape          Param #     Connected to                     \n",
      "====================================================================================================\n",
      "input_1 (InputLayer)             (None, 1)             0                                            \n",
      "____________________________________________________________________________________________________\n",
      "input_2 (InputLayer)             (None, 1)             0                                            \n",
      "____________________________________________________________________________________________________\n",
      "embedding (Embedding)            (None, 1, 2)          16          input_1[0][0]                    \n",
      "                                                                   input_2[0][0]                    \n",
      "____________________________________________________________________________________________________\n",
      "reshape_1 (Reshape)              (None, 2, 1)          0           embedding[0][0]                  \n",
      "____________________________________________________________________________________________________\n",
      "reshape_2 (Reshape)              (None, 2, 1)          0           embedding[1][0]                  \n",
      "____________________________________________________________________________________________________\n",
      "dot_2 (Dot)                      (None, 1, 1)          0           reshape_1[0][0]                  \n",
      "                                                                   reshape_2[0][0]                  \n",
      "____________________________________________________________________________________________________\n",
      "reshape_3 (Reshape)              (None, 1)             0           dot_2[0][0]                      \n",
      "____________________________________________________________________________________________________\n",
      "dense_1 (Dense)                  (None, 1)             2           reshape_3[0][0]                  \n",
      "====================================================================================================\n",
      "Total params: 18\n",
      "Trainable params: 18\n",
      "Non-trainable params: 0\n",
      "____________________________________________________________________________________________________\n",
      "____________________________________________________________________________________________________\n",
      "Layer (type)                     Output Shape          Param #     Connected to                     \n",
      "====================================================================================================\n",
      "input_1 (InputLayer)             (None, 1)             0                                            \n",
      "____________________________________________________________________________________________________\n",
      "input_2 (InputLayer)             (None, 1)             0                                            \n",
      "____________________________________________________________________________________________________\n",
      "embedding (Embedding)            (None, 1, 2)          16          input_1[0][0]                    \n",
      "                                                                   input_2[0][0]                    \n",
      "____________________________________________________________________________________________________\n",
      "reshape_1 (Reshape)              (None, 2, 1)          0           embedding[0][0]                  \n",
      "____________________________________________________________________________________________________\n",
      "reshape_2 (Reshape)              (None, 2, 1)          0           embedding[1][0]                  \n",
      "____________________________________________________________________________________________________\n",
      "dot_1 (Dot)                      (2, 1, 1)             0           reshape_1[0][0]                  \n",
      "                                                                   reshape_2[0][0]                  \n",
      "====================================================================================================\n",
      "Total params: 16\n",
      "Trainable params: 16\n",
      "Non-trainable params: 0\n",
      "____________________________________________________________________________________________________\n"
     ]
    }
   ],
   "source": [
    "from keras.layers import Input, Embedding, Reshape, merge, Dense, Dot\n",
    "from keras.models import Sequential, Model\n",
    "\n",
    "vocab_size = len(vocab)\n",
    "vector_dim = 2\n",
    "\n",
    "input_target = Input((1,))\n",
    "input_context = Input((1,))\n",
    "\n",
    "embedding = Embedding(vocab_size, vector_dim, input_length=1, name='embedding')\n",
    "\n",
    "target = embedding(input_target)\n",
    "target = Reshape((vector_dim, 1))(target)\n",
    "context = embedding(input_context)\n",
    "context = Reshape((vector_dim, 1))(context)\n",
    "\n",
    "# similarity = merge([target, context], mode='cos', dot_axes=0)\n",
    "similarity = Dot(axes=0, normalize = True)([target, context])\n",
    "\n",
    "# dot_product = merge([target, context], mode='dot', dot_axes=1)\n",
    "\n",
    "dot_product = Dot(axes=1)([target, context])\n",
    "dot_product = Reshape((1,))(dot_product)\n",
    "\n",
    "# add the sigmoid output layer\n",
    "output = Dense(1, activation='sigmoid')(dot_product)\n",
    "\n",
    "model = Model(inputs=[input_target, input_context], outputs=output)\n",
    "model.compile(loss='binary_crossentropy', optimizer='rmsprop')\n",
    "\n",
    "model.summary()\n",
    "\n",
    "validation_model = Model(inputs=[input_target, input_context], outputs=similarity)\n",
    "validation_model.summary()"
   ]
  },
  {
   "cell_type": "code",
   "execution_count": 11,
   "metadata": {},
   "outputs": [
    {
     "data": {
      "text/plain": [
       "<keras.callbacks.History at 0x7f07cd164f28>"
      ]
     },
     "execution_count": 11,
     "metadata": {},
     "output_type": "execute_result"
    }
   ],
   "source": [
    "model.fit([X,y], labels, batch_size=4, epochs=1000,verbose =0, shuffle=True)"
   ]
  },
  {
   "cell_type": "code",
   "execution_count": 9,
   "metadata": {},
   "outputs": [
    {
     "data": {
      "text/plain": [
       "('I', 'learning', 0.0)"
      ]
     },
     "execution_count": 9,
     "metadata": {},
     "output_type": "execute_result"
    }
   ],
   "source": [
    "ids = np.random.choice(range(len(words)), 2)\n",
    "    \n",
    "sim = validation_model.predict_on_batch([np.array([ids[0]]), np.array([ids[1]])])\n",
    "\n",
    "words[ids[0]], words[ids[1]], sim[0][0][0]"
   ]
  },
  {
   "cell_type": "code",
   "execution_count": 13,
   "metadata": {},
   "outputs": [
    {
     "data": {
      "image/png": "[encoded data removed]",
      "text/plain": [
       "<matplotlib.figure.Figure at 0x7f07cd17e438>"
      ]
     },
     "metadata": {},
     "output_type": "display_data"
    }
   ],
   "source": [
    "embedding_matrix = Model(inputs=input_target, outputs= target)\n",
    "\n",
    "output = embedding_matrix.predict(np.array([range(len(words))]).reshape(-1))\n",
    "\n",
    "for i, word in enumerate(words):\n",
    "    pos = output[i]\n",
    "    plt.plot(pos[0], pos[1], 'o')\n",
    "    plt.text(pos[0], pos[1], word)"
   ]
  },
  {
   "cell_type": "markdown",
   "metadata": {},
   "source": [
    "# continuous bag of\twords (CBOW):\t\n",
    "Predict\tcenter\tword from sum of surrounding word vectors instead of predicting\tsurrounding\tsingle words from center word as\tin skipgram model\n",
    "\n",
    "<img style=\"float: left;\" src=\"img_files\\cbow.png\">\n"
   ]
  },
  {
   "cell_type": "code",
   "execution_count": 41,
   "metadata": {},
   "outputs": [
    {
     "name": "stdout",
     "output_type": "stream",
     "text": [
      "['I', 'like', 'deep', 'learning', '.']\n",
      "['I', 'like', 'NLP', '.']\n",
      "['I', 'enjoy', 'flying', '.']\n"
     ]
    }
   ],
   "source": [
    "def get_train(s):\n",
    "    \n",
    "    word_index = []\n",
    "    context = []\n",
    "    label1 = []\n",
    "    negatives = []\n",
    "    label2 = []\n",
    "    for l in s:\n",
    "        toks = tokenizer(l)\n",
    "        print(toks)\n",
    "        for i, tok in enumerate(toks):\n",
    "            \n",
    "            if i+1<len(toks) & i-1>=0:\n",
    "                word_index.append(vocab[tok])\n",
    "               \n",
    "                context.append([vocab[toks[i-1]],vocab[toks[i+1]]])\n",
    "               \n",
    "                \n",
    "                label1.append(1)\n",
    "            \n",
    "            # negative sampling\n",
    "                idxs=[]\n",
    "                while 1:\n",
    "                    idx = np.random.randint(len(vocab))\n",
    "                    if idx not in idxs and words[idx] not in toks:\n",
    "                        idxs.append(idx)\n",
    "                    if len(idxs)>=2:\n",
    "                        break\n",
    "\n",
    "               \n",
    "                negatives.append(vocab[tok])\n",
    "                label2.append(0)\n",
    "                    \n",
    "         \n",
    "    return np.array(word_index), np.array( context), np.array(label1), np.array(negatives), np.array(label2) \n",
    "                \n",
    "        \n",
    "word_index, context, label1, negatives, label2 = get_train([s1,s2,s3])"
   ]
  },
  {
   "cell_type": "code",
   "execution_count": 42,
   "metadata": {},
   "outputs": [
    {
     "data": {
      "text/plain": [
       "(array([[7, 1],\n",
       "        [7, 1],\n",
       "        [7, 2]]), array([0, 0, 0]), array([0, 0, 0, 0, 0, 0]))"
      ]
     },
     "execution_count": 42,
     "metadata": {},
     "output_type": "execute_result"
    }
   ],
   "source": [
    "context, word_index, negatives"
   ]
  },
  {
   "cell_type": "code",
   "execution_count": 32,
   "metadata": {},
   "outputs": [
    {
     "name": "stdout",
     "output_type": "stream",
     "text": [
      "____________________________________________________________________________________________________\n",
      "Layer (type)                     Output Shape          Param #     Connected to                     \n",
      "====================================================================================================\n",
      "input_52 (InputLayer)            (None, 1)             0                                            \n",
      "____________________________________________________________________________________________________\n",
      "input_53 (InputLayer)            (None, 2)             0                                            \n",
      "____________________________________________________________________________________________________\n",
      "embedding_14 (Embedding)         multiple              40          input_52[0][0]                   \n",
      "                                                                   input_53[0][0]                   \n",
      "                                                                   input_54[0][0]                   \n",
      "____________________________________________________________________________________________________\n",
      "input_54 (InputLayer)            (None, 2)             0                                            \n",
      "____________________________________________________________________________________________________\n",
      "lambda_11 (Lambda)               (None, 5)             0           embedding_14[1][0]               \n",
      "____________________________________________________________________________________________________\n",
      "dot_9 (Dot)                      (None, 1)             0           embedding_14[0][0]               \n",
      "                                                                   lambda_11[0][0]                  \n",
      "____________________________________________________________________________________________________\n",
      "dot_10 (Dot)                     (None, 2)             0           embedding_14[2][0]               \n",
      "                                                                   lambda_11[0][0]                  \n",
      "====================================================================================================\n",
      "Total params: 40\n",
      "Trainable params: 40\n",
      "Non-trainable params: 0\n",
      "____________________________________________________________________________________________________\n",
      "None\n"
     ]
    }
   ],
   "source": [
    "from keras.layers import Lambda, Multiply\n",
    "import keras.backend as K\n",
    "\n",
    "window = 1\n",
    "neg_win = 2\n",
    "EMBEDDING_DIM = 5\n",
    "\n",
    "word_index = Input(shape=(1,))\n",
    "context = Input(shape=(2*window,))\n",
    "\n",
    "negative_samples = Input(shape=(neg_win,))\n",
    "\n",
    "\n",
    "# Generate embedding matrix with all values between -1/2d, 1/2d\n",
    "embedding = np.random.uniform(-1.0 / (2 * EMBEDDING_DIM),\n",
    "                              1.0 / (2 * EMBEDDING_DIM),\n",
    "                              (len(vocab), EMBEDDING_DIM))\n",
    "\n",
    "\n",
    "# All inputs are processed through a common embedding layer\n",
    "shared_embedding_layer = (Embedding(input_dim=(len(vocab)),\n",
    "                                    output_dim=EMBEDDING_DIM,\n",
    "                                    weights=[embedding]))\n",
    "\n",
    "\n",
    "\n",
    "word_embedding = shared_embedding_layer(word_index)\n",
    "context_embeddings = shared_embedding_layer(context)\n",
    "negative_words_embedding = shared_embedding_layer(negative_samples)\n",
    "\n",
    "\n",
    "# Now the context words are averaged to get the CBOW vector\n",
    "cbow = Lambda(lambda x: K.mean(x, axis=1),\n",
    "              output_shape=(EMBEDDING_DIM,))(context_embeddings)\n",
    "\n",
    "# Context is multiplied (dot product) with current word and negative\n",
    "# sampled words\n",
    "word_context_product = Dot(axes = -1)([word_embedding, cbow])\n",
    "negative_context_product = Dot(axes = -1)([negative_words_embedding, cbow])\n",
    "\n",
    "# The dot products are outputted\n",
    "model = Model(inputs=[word_index, context, negative_samples],\n",
    "              outputs=[word_context_product, negative_context_product])\n",
    "\n",
    "# Binary crossentropy is applied on the output\n",
    "model.compile(optimizer='rmsprop', loss='binary_crossentropy')\n",
    "print(model.summary())\n"
   ]
  },
  {
   "cell_type": "code",
   "execution_count": 35,
   "metadata": {},
   "outputs": [
    {
     "ename": "ValueError",
     "evalue": "Error when checking input: expected input_54 to have shape (None, 2) but got array with shape (26, 1)",
     "output_type": "error",
     "traceback": [
      "\u001b[0;31m--------------------------------------------------------------------------\u001b[0m",
      "\u001b[0;31mValueError\u001b[0m                               Traceback (most recent call last)",
      "\u001b[0;32m<ipython-input-35-c2facf5433c3>\u001b[0m in \u001b[0;36m<module>\u001b[0;34m()\u001b[0m\n\u001b[0;32m----> 1\u001b[0;31m \u001b[0mmodel\u001b[0m\u001b[0;34m.\u001b[0m\u001b[0mfit\u001b[0m\u001b[0;34m(\u001b[0m\u001b[0;34m[\u001b[0m\u001b[0mword_index\u001b[0m\u001b[0;34m,\u001b[0m \u001b[0mcontext\u001b[0m\u001b[0;34m,\u001b[0m \u001b[0mnegatives\u001b[0m\u001b[0;34m]\u001b[0m\u001b[0;34m,\u001b[0m \u001b[0;34m[\u001b[0m\u001b[0mlabel1\u001b[0m\u001b[0;34m,\u001b[0m \u001b[0mlabel2\u001b[0m\u001b[0;34m]\u001b[0m\u001b[0;34m,\u001b[0m \u001b[0mbatch_size\u001b[0m\u001b[0;34m=\u001b[0m\u001b[0;36m4\u001b[0m\u001b[0;34m,\u001b[0m \u001b[0mepochs\u001b[0m\u001b[0;34m=\u001b[0m\u001b[0;36m1000\u001b[0m\u001b[0;34m,\u001b[0m\u001b[0mverbose\u001b[0m \u001b[0;34m=\u001b[0m\u001b[0;36m0\u001b[0m\u001b[0;34m,\u001b[0m \u001b[0mshuffle\u001b[0m\u001b[0;34m=\u001b[0m\u001b[0;32mTrue\u001b[0m\u001b[0;34m)\u001b[0m\u001b[0;34m\u001b[0m\u001b[0m\n\u001b[0m",
      "\u001b[0;32m/usr/local/lib/python3.5/dist-packages/keras/engine/training.py\u001b[0m in \u001b[0;36mfit\u001b[0;34m(self, x, y, batch_size, epochs, verbose, callbacks, validation_split, validation_data, shuffle, class_weight, sample_weight, initial_epoch, steps_per_epoch, validation_steps, **kwargs)\u001b[0m\n\u001b[1;32m   1520\u001b[0m             \u001b[0mclass_weight\u001b[0m\u001b[0;34m=\u001b[0m\u001b[0mclass_weight\u001b[0m\u001b[0;34m,\u001b[0m\u001b[0;34m\u001b[0m\u001b[0m\n\u001b[1;32m   1521\u001b[0m             \u001b[0mcheck_batch_axis\u001b[0m\u001b[0;34m=\u001b[0m\u001b[0;32mFalse\u001b[0m\u001b[0;34m,\u001b[0m\u001b[0;34m\u001b[0m\u001b[0m\n\u001b[0;32m-> 1522\u001b[0;31m             batch_size=batch_size)\n\u001b[0m\u001b[1;32m   1523\u001b[0m         \u001b[0;31m# Prepare validation data.\u001b[0m\u001b[0;34m\u001b[0m\u001b[0;34m\u001b[0m\u001b[0m\n\u001b[1;32m   1524\u001b[0m         \u001b[0mdo_validation\u001b[0m \u001b[0;34m=\u001b[0m \u001b[0;32mFalse\u001b[0m\u001b[0;34m\u001b[0m\u001b[0m\n",
      "\u001b[0;32m/usr/local/lib/python3.5/dist-packages/keras/engine/training.py\u001b[0m in \u001b[0;36m_standardize_user_data\u001b[0;34m(self, x, y, sample_weight, class_weight, check_batch_axis, batch_size)\u001b[0m\n\u001b[1;32m   1376\u001b[0m                                     \u001b[0mself\u001b[0m\u001b[0;34m.\u001b[0m\u001b[0m_feed_input_shapes\u001b[0m\u001b[0;34m,\u001b[0m\u001b[0;34m\u001b[0m\u001b[0m\n\u001b[1;32m   1377\u001b[0m                                     \u001b[0mcheck_batch_axis\u001b[0m\u001b[0;34m=\u001b[0m\u001b[0;32mFalse\u001b[0m\u001b[0;34m,\u001b[0m\u001b[0;34m\u001b[0m\u001b[0m\n\u001b[0;32m-> 1378\u001b[0;31m                                     exception_prefix='input')\n\u001b[0m\u001b[1;32m   1379\u001b[0m         y = _standardize_input_data(y, self._feed_output_names,\n\u001b[1;32m   1380\u001b[0m                                     \u001b[0moutput_shapes\u001b[0m\u001b[0;34m,\u001b[0m\u001b[0;34m\u001b[0m\u001b[0m\n",
      "\u001b[0;32m/usr/local/lib/python3.5/dist-packages/keras/engine/training.py\u001b[0m in \u001b[0;36m_standardize_input_data\u001b[0;34m(data, names, shapes, check_batch_axis, exception_prefix)\u001b[0m\n\u001b[1;32m    142\u001b[0m                             \u001b[0;34m' to have shape '\u001b[0m \u001b[0;34m+\u001b[0m \u001b[0mstr\u001b[0m\u001b[0;34m(\u001b[0m\u001b[0mshapes\u001b[0m\u001b[0;34m[\u001b[0m\u001b[0mi\u001b[0m\u001b[0;34m]\u001b[0m\u001b[0;34m)\u001b[0m \u001b[0;34m+\u001b[0m\u001b[0;34m\u001b[0m\u001b[0m\n\u001b[1;32m    143\u001b[0m                             \u001b[0;34m' but got array with shape '\u001b[0m \u001b[0;34m+\u001b[0m\u001b[0;34m\u001b[0m\u001b[0m\n\u001b[0;32m--> 144\u001b[0;31m                             str(array.shape))\n\u001b[0m\u001b[1;32m    145\u001b[0m     \u001b[0;32mreturn\u001b[0m \u001b[0marrays\u001b[0m\u001b[0;34m\u001b[0m\u001b[0m\n\u001b[1;32m    146\u001b[0m \u001b[0;34m\u001b[0m\u001b[0m\n",
      "\u001b[0;31mValueError\u001b[0m: Error when checking input: expected input_54 to have shape (None, 2) but got array with shape (26, 1)"
     ]
    }
   ],
   "source": [
    "model.fit([word_index, context, negatives], [label1, label2], batch_size=4, epochs=1000, verbose =0, shuffle=True)"
   ]
  }
 ],
 "metadata": {
  "kernelspec": {
   "display_name": "Python 3",
   "language": "python",
   "name": "python3"
  },
  "language_info": {
   "codemirror_mode": {
    "name": "ipython",
    "version": 3
   },
   "file_extension": ".py",
   "mimetype": "text/x-python",
   "name": "python",
   "nbconvert_exporter": "python",
   "pygments_lexer": "ipython3",
   "version": "3.5.3"
  }
 },
 "nbformat": 4,
 "nbformat_minor": 2
}
