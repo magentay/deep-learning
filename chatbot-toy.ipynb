{
 "cells": [
  {
   "cell_type": "code",
   "execution_count": 1,
   "metadata": {
    "collapsed": true
   },
   "outputs": [],
   "source": [
    "import pandas as pd\n",
    "import os\n",
    "import numpy as np\n",
    "import re"
   ]
  },
  {
   "cell_type": "markdown",
   "metadata": {},
   "source": [
    "# Dataset:  Cornell Movie--Dialogs Corpus\n",
    "\n",
    "* contains a large metadata-rich collection of fictional conversations extracted from raw movie scripts:\n",
    "  - 220,579 conversational exchanges between 10,292 pairs of movie characters\n",
    "* website: http://www.cs.cornell.edu/~cristian/Cornell_Movie-Dialogs_Corpus.html"
   ]
  },
  {
   "cell_type": "code",
   "execution_count": 2,
   "metadata": {
    "collapsed": true
   },
   "outputs": [],
   "source": [
    "datadir = '/data/cornell-movie-dialogs-corpus'"
   ]
  },
  {
   "cell_type": "code",
   "execution_count": 3,
   "metadata": {},
   "outputs": [
    {
     "data": {
      "text/plain": [
       "['.DS_Store',\n",
       " 'chameleons.pdf',\n",
       " 'movie_characters_metadata.txt',\n",
       " 'movie_conversations.txt',\n",
       " 'movie_lines.txt',\n",
       " 'movie_titles_metadata.txt',\n",
       " 'raw_script_urls.txt',\n",
       " 'README.txt']"
      ]
     },
     "execution_count": 3,
     "metadata": {},
     "output_type": "execute_result"
    }
   ],
   "source": [
    "# Files included in the zip file\n",
    "os.listdir(datadir)"
   ]
  },
  {
   "cell_type": "code",
   "execution_count": 4,
   "metadata": {
    "collapsed": true
   },
   "outputs": [],
   "source": [
    "# Extract the conversation lines\n",
    "f = open(os.path.join(datadir, 'movie_conversations.txt'), 'rb')\n",
    "conversations = []\n",
    "for line in f.readlines(): \n",
    "    conversations.append([x.strip('\\'') for x in line.decode('windows-1252').strip().split(\" +++$+++ \")[-1][1:-1].split(\", \")])    "
   ]
  },
  {
   "cell_type": "code",
   "execution_count": 5,
   "metadata": {
    "collapsed": true
   },
   "outputs": [],
   "source": [
    "# Clean the text\n",
    "\n",
    "def clean_text(text):\n",
    "    '''Clean text by removing unnecessary characters and altering the format of words.'''\n",
    "\n",
    "    text = text.lower()\n",
    "    \n",
    "    text = re.sub(r\"i'm\", \"i am\", text)\n",
    "    text = re.sub(r\"he's\", \"he is\", text)\n",
    "    text = re.sub(r\"she's\", \"she is\", text)\n",
    "    text = re.sub(r\"it's\", \"it is\", text)\n",
    "    text = re.sub(r\"that's\", \"that is\", text)\n",
    "    text = re.sub(r\"what's\", \"that is\", text)\n",
    "    text = re.sub(r\"where's\", \"where is\", text)\n",
    "    text = re.sub(r\"how's\", \"how is\", text)\n",
    "    text = re.sub(r\"\\'ll\", \" will\", text)\n",
    "    text = re.sub(r\"\\'ve\", \" have\", text)\n",
    "    text = re.sub(r\"\\'re\", \" are\", text)\n",
    "    text = re.sub(r\"\\'d\", \" would\", text)\n",
    "    text = re.sub(r\"\\'re\", \" are\", text)\n",
    "    text = re.sub(r\"won't\", \"will not\", text)\n",
    "    text = re.sub(r\"can't\", \"cannot\", text)\n",
    "    text = re.sub(r\"n't\", \" not\", text)\n",
    "    text = re.sub(r\"n'\", \"ng\", text)\n",
    "    text = re.sub(r\"'bout\", \"about\", text)\n",
    "    text = re.sub(r\"'til\", \"until\", text)\n",
    "    text = re.sub(r\"[-()\\\"#/@;:<>{}`+=~|.!?,]\", \"\", text)\n",
    "    \n",
    "    return text"
   ]
  },
  {
   "cell_type": "code",
   "execution_count": 6,
   "metadata": {},
   "outputs": [
    {
     "data": {
      "text/plain": [
       "'just once  afterwards i told him i did not want to anymore i was not ready he got pissed  then he broke up with me'"
      ]
     },
     "execution_count": 6,
     "metadata": {},
     "output_type": "execute_result"
    }
   ],
   "source": [
    "# Example of cleaning text\n",
    "clean_text(\"Just once.  Afterwards, I told him I didn't want to anymore. I wasn't ready. He got pissed.  Then he broke up with me.\")"
   ]
  },
  {
   "cell_type": "code",
   "execution_count": 7,
   "metadata": {},
   "outputs": [],
   "source": [
    "# Extract the sentense and line number pairs\n",
    "f = open(os.path.join(datadir, 'movie_lines.txt'), 'rb')\n",
    "movie_lines = {}\n",
    "for line in f.readlines():\n",
    "    fields = line.decode('windows-1252').strip().split(\" +++$+++ \")\n",
    "    movie_lines[fields[0]] = clean_text(fields[-1])"
   ]
  },
  {
   "cell_type": "code",
   "execution_count": 8,
   "metadata": {},
   "outputs": [
    {
     "data": {
      "text/plain": [
       "['just',\n",
       " 'once',\n",
       " 'afterwards',\n",
       " 'i',\n",
       " 'told',\n",
       " 'him',\n",
       " 'i',\n",
       " 'did',\n",
       " 'not',\n",
       " 'want',\n",
       " 'to',\n",
       " 'anymore',\n",
       " 'i',\n",
       " 'was',\n",
       " 'not',\n",
       " 'ready',\n",
       " 'he',\n",
       " 'got',\n",
       " 'pissed',\n",
       " 'then',\n",
       " 'he',\n",
       " 'broke',\n",
       " 'up',\n",
       " 'with',\n",
       " 'me']"
      ]
     },
     "execution_count": 8,
     "metadata": {},
     "output_type": "execute_result"
    }
   ],
   "source": [
    "# Tokenizer\n",
    "\n",
    "# Regular expressions used to tokenize.\n",
    "_WORD_SPLIT = re.compile(\"([.,!?\\\"':;)(])\")\n",
    "# _DIGIT_RE = re.compile(r\"\\d\")\n",
    "\n",
    "def basic_tokenizer(line):    \n",
    "    # break line to sentences\n",
    "    sentences = re.split(_WORD_SPLIT, line)\n",
    "    words = []\n",
    "    for sentence in sentences:\n",
    "        if sentence:\n",
    "            words += sentence.strip().split()\n",
    "    return words\n",
    "\n",
    "\n",
    "line = 'just once  afterwards i told him i did not want to anymore  i was not ready he got pissed  then he broke up with me'\n",
    "tokens =  basic_tokenizer(line)\n",
    "tokens"
   ]
  },
  {
   "cell_type": "code",
   "execution_count": 9,
   "metadata": {},
   "outputs": [
    {
     "data": {
      "text/plain": [
       "(73358, 73358)"
      ]
     },
     "execution_count": 9,
     "metadata": {},
     "output_type": "execute_result"
    }
   ],
   "source": [
    "# extrac the Q_A pairs, only use the sentences with length <=10 and >=2\n",
    "questions = []\n",
    "answers=[]\n",
    "min_length = 2\n",
    "enc_sentence_length = 10\n",
    "dec_sentence_length = 10\n",
    "for c in conversations:\n",
    "    n = len(c)\n",
    "    for i in range(0,n-1):\n",
    "        \n",
    "        qtokens = basic_tokenizer(movie_lines[c[i]])\n",
    "        atokens =  basic_tokenizer(movie_lines[c[i+1]])\n",
    "       \n",
    "        if len(qtokens)<=enc_sentence_length and len(qtokens)>=min_length \\\n",
    "        and len(atokens)<=dec_sentence_length and len(atokens)>=min_length :\n",
    "            questions.append(movie_lines[c[i]])\n",
    "            answers.append(movie_lines[c[i+1]])\n",
    "            \n",
    "len(questions), len(answers)\n",
    "       "
   ]
  },
  {
   "cell_type": "code",
   "execution_count": 10,
   "metadata": {
    "collapsed": true
   },
   "outputs": [],
   "source": [
    "#split into to trainset and testset\n",
    "from sklearn.model_selection import train_test_split\n",
    "Q_train, Q_test, A_train, A_test = train_test_split(  questions, answers, test_size=0.2, random_state=42)"
   ]
  },
  {
   "cell_type": "code",
   "execution_count": 11,
   "metadata": {},
   "outputs": [
    {
     "name": "stderr",
     "output_type": "stream",
     "text": [
      "100%|██████████| 58686/58686 [00:00<00:00, 255974.82it/s]\n",
      " 47%|████▋     | 27556/58686 [00:00<00:00, 275553.69it/s]"
     ]
    },
    {
     "name": "stdout",
     "output_type": "stream",
     "text": [
      "total vocab =  17415\n",
      "vocab with freq = 1:  9186\n",
      "vocab with freq = 2:  2734\n",
      "vocab with freq = 3:  1271\n"
     ]
    },
    {
     "name": "stderr",
     "output_type": "stream",
     "text": [
      "100%|██████████| 58686/58686 [00:00<00:00, 281398.25it/s]"
     ]
    },
    {
     "name": "stdout",
     "output_type": "stream",
     "text": [
      "total vocab =  17474\n",
      "vocab with freq = 1:  9492\n",
      "vocab with freq = 2:  2623\n",
      "vocab with freq = 3:  1211\n"
     ]
    },
    {
     "name": "stderr",
     "output_type": "stream",
     "text": [
      "\n"
     ]
    }
   ],
   "source": [
    "#Generate the vocabulary list for encoder and decoder\n",
    "\n",
    "_PAD = \"_PAD\"\n",
    "_GO = \"_GO\"\n",
    "_EOS = \"_EOS\"\n",
    "_UNK = \"_UNK\"\n",
    "_START_VOCAB = [ _GO, _PAD, _EOS, _UNK]\n",
    "\n",
    "from tqdm import tqdm\n",
    "def get_vocab(train, max_vocab_size):\n",
    "    vocab = {}\n",
    "    for line in tqdm(train):\n",
    "        tokens = basic_tokenizer(line)\n",
    "        for word in tokens:\n",
    "#             word = re.sub(_DIGIT_RE, \"0\", w) \n",
    "            if word in vocab:\n",
    "                vocab[word] += 1\n",
    "            else:\n",
    "                vocab[word] = 1\n",
    "    \n",
    "    vocab_list = _START_VOCAB + sorted(vocab, key=vocab.get, reverse=True)\n",
    "    \n",
    "    print(\"total vocab = \", len(vocab_list))\n",
    "    print('vocab with freq = 1: ', list(vocab.values()).count(1))\n",
    "    print('vocab with freq = 2: ', list(vocab.values()).count(2))\n",
    "    print('vocab with freq = 3: ', list(vocab.values()).count(3))\n",
    "    vocab_list = vocab_list[:max_vocab_size]\n",
    "    \n",
    "    return vocab_list\n",
    "\n",
    "\n",
    "# only choose part of the vocab for the training\n",
    "max_encode_vocab_size = 2000\n",
    "max_decode_vocab_size = 2000\n",
    "encode_vocab = get_vocab(Q_train, max_encode_vocab_size)\n",
    "decode_vocab = get_vocab(A_train, max_encode_vocab_size)"
   ]
  },
  {
   "cell_type": "markdown",
   "metadata": {},
   "source": [
    "# Padding\n",
    "\n",
    "Convert the variable length sequences into fixed length sequences, by padding. We use a few special symbols to fill in the sequence.\n",
    "\n",
    "* EOS : End of sentence\n",
    "* PAD : Filler\n",
    "* GO : Start decoding\n",
    "* UNK : Unknown; word not in vocabulary\n"
   ]
  },
  {
   "cell_type": "code",
   "execution_count": 12,
   "metadata": {},
   "outputs": [
    {
     "name": "stdout",
     "output_type": "stream",
     "text": [
      "Hi What is your name?\n",
      "[3, 3, 6, 28, 124, 3, 0, 0, 0, 0, 0, 0]\n",
      "Hi this is Jaemin.\n",
      "[0, 3, 32, 6, 3, 3, 2, 1, 1, 1, 1, 1]\n"
     ]
    }
   ],
   "source": [
    "\n",
    "\n",
    "GO_ID = 0\n",
    "PAD_ID = 1\n",
    "EOS_ID = 2\n",
    "UNK_ID = 3\n",
    "\n",
    "dec_sentence_length = 12\n",
    "enc_sentence_length = 12\n",
    "\n",
    "def token2idx(word, vocab):\n",
    "    return vocab.get(word, UNK_ID)\n",
    "\n",
    "def sent2idx(sent, vocab=encode_vocab, max_sentence_length=enc_sentence_length, is_target=False):\n",
    "    tokens = basic_tokenizer(sent)\n",
    "    current_length = len(tokens)\n",
    "    vocab = dict([(x, y) for (y, x) in enumerate(vocab)])\n",
    "    \n",
    "    pad_length = max_sentence_length - current_length\n",
    "    if is_target:\n",
    "        pad_length -= 2\n",
    "        return [0] + [token2idx(token, vocab) for token in tokens] + [2] + [1] * pad_length\n",
    "    else:\n",
    "        return [token2idx(token, vocab) for token in tokens] + [0] * pad_length\n",
    "\n",
    "# Enc Example\n",
    "print('Hi What is your name?')\n",
    "print(sent2idx('Hi What is your name?'))\n",
    "\n",
    "# Dec Example\n",
    "print('Hi this is Jaemin.')\n",
    "print(sent2idx('Hi this is Jaemin.', vocab=decode_vocab, max_sentence_length=dec_sentence_length, is_target=True))"
   ]
  },
  {
   "cell_type": "code",
   "execution_count": null,
   "metadata": {
    "collapsed": true
   },
   "outputs": [],
   "source": []
  },
  {
   "cell_type": "code",
   "execution_count": 13,
   "metadata": {},
   "outputs": [
    {
     "data": {
      "text/plain": [
       "(array([[   4,   55,    4,   18,  321,   28,  486,    0,    0,    0,    0,\n",
       "            0],\n",
       "        [ 295,   66,    0,    0,    0,    0,    0,    0,    0,    0,    0,\n",
       "            0],\n",
       "        [   3,    9,  679,   20,  151,   13, 1690,    0,    0,    0,    0,\n",
       "            0],\n",
       "        [   5,   29,    8,   18,   21,   23,   32,  166,    0,    0,    0,\n",
       "            0],\n",
       "        [  14,   10,    4,   83,    8,  335,   28,    3,    0,    0,    0,\n",
       "            0]]),\n",
       " array([[   0,  110,  110,    9,  133,   24,    9, 1989,    2,    1,    1,\n",
       "            1],\n",
       "        [   0,  147,   35,   11,  129,   83,    9,  515,  619,    3,    2,\n",
       "            1],\n",
       "        [   0,   40,    5,   25,   10,   28,  333,    3,    2,    1,    1,\n",
       "            1],\n",
       "        [   0,    5,   34,   60,   12,  211,    2,    1,    1,    1,    1,\n",
       "            1],\n",
       "        [   0,   59,   49,    4,   80,    2,    1,    1,    1,    1,    1,\n",
       "            1]]))"
      ]
     },
     "execution_count": 13,
     "metadata": {},
     "output_type": "execute_result"
    }
   ],
   "source": [
    "PAD_ID = 0\n",
    "GO_ID = 1\n",
    "EOS_ID = 2\n",
    "UNK_ID = 3\n",
    "\n",
    "import random\n",
    "import numpy as np\n",
    "\n",
    "def get_batch(Q_train, A_train, batch_size):\n",
    "    \n",
    "    encoder_inputs = []\n",
    "    decoder_inputs = []\n",
    "    for _ in range(batch_size):\n",
    "        id = random.choice(range(len(Q_train)))\n",
    "        encoder_input, decoder_input = Q_train[id], A_train[id]\n",
    "        \n",
    "        encoder_inputs.append(sent2idx(encoder_input, max_sentence_length=enc_sentence_length))\n",
    "        decoder_inputs.append(sent2idx(decoder_input, vocab=decode_vocab, \n",
    "                                       max_sentence_length=dec_sentence_length, is_target=True))\n",
    "\n",
    "\n",
    "    return np.array(encoder_inputs), np.array(decoder_inputs)\n",
    "\n",
    "# example of small batches\n",
    "batch_encoder_inputs, batch_decoder_inputs= get_batch(Q_train, A_train, 5)\n",
    "batch_encoder_inputs, batch_decoder_inputs "
   ]
  },
  {
   "cell_type": "code",
   "execution_count": 14,
   "metadata": {
    "collapsed": true
   },
   "outputs": [],
   "source": [
    "# convert the id to token\n",
    "def idx2token(idx, reverse_vocab):\n",
    "    return reverse_vocab[idx]\n",
    "\n",
    "def idx2sent(indices, reverse_vocab):\n",
    "    return \" \".join([idx2token(idx, reverse_vocab) for idx in indices])"
   ]
  },
  {
   "cell_type": "code",
   "execution_count": 15,
   "metadata": {},
   "outputs": [
    {
     "data": {
      "text/plain": [
       "'_GO your go is about _UNK that _UNK your _PAD _PAD'"
      ]
     },
     "execution_count": 15,
     "metadata": {},
     "output_type": "execute_result"
    }
   ],
   "source": [
    "idx2sent( [0, 29, 58, 6, 38, 3, 13, 3, 29, 1, 1], reverse_vocab = decode_vocab)"
   ]
  },
  {
   "cell_type": "markdown",
   "metadata": {},
   "source": [
    "# Model\n",
    "\n",
    "seq2seq model\n",
    "\n",
    "<img style=\"float: left;\" src=\"attention.png\">"
   ]
  },
  {
   "cell_type": "code",
   "execution_count": 16,
   "metadata": {
    "collapsed": true
   },
   "outputs": [],
   "source": [
    "import tensorflow as tf\n",
    "import data_utils\n",
    "import seq2seq_model\n",
    "layer_size = 512\n",
    "num_layers = 2\n",
    "max_gradient_norm = 5.0\n",
    "learning_rate = 0.0001\n",
    "learning_rate_decay_factor = 0.9\n",
    "min_learning_rate = 0.000001\n",
    "batch_size = 64\n",
    "\n",
    "enc_sentence_length = 12\n",
    "dec_sentence_length = 12\n",
    "keep_prob = 0.75\n",
    "\n",
    "enc_emb_size = layer_size\n",
    "dec_emb_size = layer_size"
   ]
  },
  {
   "cell_type": "code",
   "execution_count": 17,
   "metadata": {},
   "outputs": [],
   "source": [
    "tf.reset_default_graph()\n",
    "\n",
    "enc_inputs = tf.placeholder(\n",
    "    tf.int32,\n",
    "    shape=[None, enc_sentence_length],\n",
    "    name='input_sentences')\n",
    "\n",
    "\n",
    "dec_inputs = tf.placeholder(\n",
    "    tf.int32,\n",
    "    shape=[None, dec_sentence_length],\n",
    "    name='output_sentences')\n",
    "\n",
    "# batch_major => time_major\n",
    "enc_inputs_t = tf.transpose(enc_inputs, [1,0])\n",
    "dec_inputs_t = tf.transpose(dec_inputs, [1,0])\n",
    "\n",
    "\n",
    "lstm = tf.contrib.rnn.BasicLSTMCell(layer_size)\n",
    "drop = tf.contrib.rnn.DropoutWrapper(lstm, input_keep_prob = keep_prob)\n",
    "cell = tf.contrib.rnn.MultiRNNCell([drop] * num_layers)\n",
    "# cell = tf.nn.rnn_cell.BasicRNNCell(layer_size)\n",
    "\n",
    "with tf.variable_scope(\"embedding_attention_seq2seq\"):\n",
    "    # dec_outputs: [dec_sent_len+1 x batch_size x hidden_size]\n",
    "    dec_outputs, dec_last_state = tf.contrib.legacy_seq2seq.embedding_attention_seq2seq(\n",
    "        encoder_inputs=tf.unstack(enc_inputs_t),\n",
    "        decoder_inputs=tf.unstack(dec_inputs_t),\n",
    "        cell=cell, \n",
    "        num_encoder_symbols=max_encode_vocab_size,\n",
    "        num_decoder_symbols=max_decode_vocab_size,\n",
    "        embedding_size=enc_emb_size,\n",
    "        feed_previous=True)\n",
    "\n",
    "# predictions: [batch_size x dec_sentence_lengths]\n",
    "predictions = tf.transpose(tf.argmax(tf.stack(dec_outputs), axis=-1), [1,0])\n",
    "\n",
    "# labels & logits: [dec_sentence_length x batch_size x dec_vocab_size]\n",
    "labels = tf.one_hot(dec_inputs_t, max_decode_vocab_size)\n",
    "logits = tf.stack(dec_outputs)\n",
    "\n",
    "\n",
    "\n",
    "with tf.name_scope(\"optimization\"):\n",
    "    # Loss function\n",
    "    loss = tf.contrib.seq2seq.sequence_loss([logits], [labels], [tf.ones_like(labels, dtype=tf.float32)])\n",
    "    #     loss = tf.reduce_mean(tf.nn.softmax_cross_entropy_with_logits( labels=labels, logits=logits))\n",
    "    # Optimizer\n",
    "    optimizer = tf.train.AdamOptimizer(learning_rate)\n",
    "\n",
    "    # Gradient Clipping\n",
    "    gradients = optimizer.compute_gradients(loss)\n",
    "    capped_gradients = [(tf.clip_by_value(grad, -5., 5.), var) for grad, var in gradients if grad is not None]\n",
    "    training_op = optimizer.apply_gradients(capped_gradients)"
   ]
  },
  {
   "cell_type": "code",
   "execution_count": 18,
   "metadata": {},
   "outputs": [
    {
     "name": "stderr",
     "output_type": "stream",
     "text": [
      "\r",
      "  0%|          | 0/50000 [00:00<?, ?it/s]"
     ]
    },
    {
     "name": "stdout",
     "output_type": "stream",
     "text": [
      "step 0\n",
      "\t he just asked me questions _GO _GO _GO _GO _GO _GO _GO\n",
      "\t =>  _PAD _PAD _PAD _PAD _PAD _PAD _PAD _PAD _PAD _PAD _PAD _PAD\n",
      "\tCorrent answer: _GO what _UNK of questions _EOS _PAD _PAD _PAD _PAD _PAD _PAD\n",
      "\t yes that is up _GO _GO _GO _GO _GO _GO _GO _GO\n",
      "\t =>  you _PAD _PAD _PAD _PAD _PAD _PAD _PAD _PAD _PAD _PAD _PAD\n",
      "\tCorrent answer: _GO nothing calling to say hi that is up with you _EOS\n",
      "\t but i have to finish this _GO _GO _GO _GO _GO _GO\n",
      "\t =>  shooting shooting _PAD _PAD _PAD _PAD _PAD _PAD _PAD _PAD _PAD _PAD\n",
      "\tCorrent answer: _GO come on that shit can wait _EOS _PAD _PAD _PAD _PAD\n",
      "\t what was that _GO _GO _GO _GO _GO _GO _GO _GO _GO\n",
      "\t =>  like _PAD _PAD _PAD _PAD _PAD _PAD _PAD _PAD _PAD _PAD _PAD\n",
      "\tCorrent answer: _GO his horse _EOS _PAD _PAD _PAD _PAD _PAD _PAD _PAD _PAD\n",
      "\tepoch loss: 7.60\n",
      "\n"
     ]
    },
    {
     "name": "stderr",
     "output_type": "stream",
     "text": [
      "\r",
      "  0%|          | 1/50000 [00:03<53:49:33,  3.88s/it]"
     ]
    },
    {
     "name": "stdout",
     "output_type": "stream",
     "text": [
      "Model saved in file: ./lstm_model.ckpt\n"
     ]
    },
    {
     "name": "stderr",
     "output_type": "stream",
     "text": [
      "  2%|▏         | 1000/50000 [24:28<20:07:05,  1.48s/it]"
     ]
    },
    {
     "name": "stdout",
     "output_type": "stream",
     "text": [
      "step 1000\n",
      "\t you lying son of a bitch _GO _GO _GO _GO _GO _GO\n",
      "\t =>  _GO i i _EOS _EOS _PAD _PAD _PAD _PAD _PAD _PAD _PAD\n",
      "\tCorrent answer: _GO what are you talking about we did not kill her _EOS\n",
      "\t give him a second _GO _GO _GO _GO _GO _GO _GO _GO\n",
      "\t =>  _GO i _UNK _EOS _EOS _PAD _PAD _PAD _PAD _PAD _PAD _PAD\n",
      "\tCorrent answer: _GO _UNK the code name is _UNK _EOS _PAD _PAD _PAD _PAD\n",
      "\t that is never been _UNK _GO _GO _GO _GO _GO _GO _GO\n",
      "\t =>  _GO _UNK _UNK _EOS _EOS _PAD _PAD _PAD _PAD _PAD _PAD _PAD\n",
      "\tCorrent answer: _GO neither has his _UNK _EOS _PAD _PAD _PAD _PAD _PAD _PAD\n",
      "\t in heaven _GO _GO _GO _GO _GO _GO _GO _GO _GO _GO\n",
      "\t =>  _GO i _UNK _EOS _PAD _PAD _PAD _PAD _PAD _PAD _PAD _PAD\n",
      "\tCorrent answer: _GO she is dead _EOS _PAD _PAD _PAD _PAD _PAD _PAD _PAD\n",
      "\tepoch loss: 2.86\n",
      "\n"
     ]
    },
    {
     "name": "stderr",
     "output_type": "stream",
     "text": [
      "\r",
      "  2%|▏         | 1001/50000 [24:31<25:31:13,  1.88s/it]"
     ]
    },
    {
     "name": "stdout",
     "output_type": "stream",
     "text": [
      "Model saved in file: ./lstm_model.ckpt\n"
     ]
    },
    {
     "name": "stderr",
     "output_type": "stream",
     "text": [
      "  4%|▍         | 2000/50000 [48:40<19:18:21,  1.45s/it]"
     ]
    },
    {
     "name": "stdout",
     "output_type": "stream",
     "text": [
      "step 2000\n",
      "\t will you get her for me _GO _GO _GO _GO _GO _GO\n",
      "\t =>  _GO i i _EOS _EOS _PAD _PAD _PAD _PAD _PAD _PAD _PAD\n",
      "\tCorrent answer: _GO she is _UNK her clothes _EOS _PAD _PAD _PAD _PAD _PAD\n",
      "\t this one _GO _GO _GO _GO _GO _GO _GO _GO _GO _GO\n",
      "\t =>  _GO i is _EOS _EOS _PAD _PAD _PAD _PAD _PAD _PAD _PAD\n",
      "\tCorrent answer: _GO you sure _EOS _PAD _PAD _PAD _PAD _PAD _PAD _PAD _PAD\n",
      "\t _UNK get lost _GO _GO _GO _GO _GO _GO _GO _GO _GO\n",
      "\t =>  _GO i _UNK _EOS _EOS _PAD _PAD _PAD _PAD _PAD _PAD _PAD\n",
      "\tCorrent answer: _GO i have to talk to you _EOS _PAD _PAD _PAD _PAD\n",
      "\t i wanna leave get me out of here _GO _GO _GO _GO\n",
      "\t =>  _GO i you _EOS _EOS _PAD _PAD _PAD _PAD _PAD _PAD _PAD\n",
      "\tCorrent answer: _GO oh come on it is early _EOS _PAD _PAD _PAD _PAD\n",
      "\tepoch loss: 3.07\n",
      "\n"
     ]
    },
    {
     "name": "stderr",
     "output_type": "stream",
     "text": [
      "\r",
      "  4%|▍         | 2001/50000 [48:42<24:07:03,  1.81s/it]"
     ]
    },
    {
     "name": "stdout",
     "output_type": "stream",
     "text": [
      "Model saved in file: ./lstm_model.ckpt\n"
     ]
    },
    {
     "name": "stderr",
     "output_type": "stream",
     "text": [
      "  6%|▌         | 3000/50000 [1:12:50<18:58:57,  1.45s/it]"
     ]
    },
    {
     "name": "stdout",
     "output_type": "stream",
     "text": [
      "step 3000\n",
      "\t i am _UNK you the _UNK _GO _GO _GO _GO _GO _GO\n",
      "\t =>  _GO i _UNK _EOS _EOS _PAD _PAD _PAD _PAD _PAD _PAD _PAD\n",
      "\tCorrent answer: _GO yeah yeah if this is another _UNK _UNK _EOS _PAD _PAD\n",
      "\t do you know this my lady _GO _GO _GO _GO _GO _GO\n",
      "\t =>  _GO i is _EOS _EOS _PAD _PAD _PAD _PAD _PAD _PAD _PAD\n",
      "\tCorrent answer: _GO it could only be one thing it is a _UNK _EOS\n",
      "\t there is time it is still dark _GO _GO _GO _GO _GO\n",
      "\t =>  _GO i is is _EOS _PAD _PAD _PAD _PAD _PAD _PAD _PAD\n",
      "\tCorrent answer: _GO it is _UNK day the _UNK tells us so _EOS _PAD\n",
      "\t george george _GO _GO _GO _GO _GO _GO _GO _GO _GO _GO\n",
      "\t =>  _GO i is _EOS _EOS _PAD _PAD _PAD _PAD _PAD _PAD _PAD\n",
      "\tCorrent answer: _GO yes sir _EOS _PAD _PAD _PAD _PAD _PAD _PAD _PAD _PAD\n",
      "\tepoch loss: 2.89\n",
      "\n"
     ]
    },
    {
     "name": "stderr",
     "output_type": "stream",
     "text": [
      "\r",
      "  6%|▌         | 3001/50000 [1:12:53<24:20:24,  1.86s/it]"
     ]
    },
    {
     "name": "stdout",
     "output_type": "stream",
     "text": [
      "Model saved in file: ./lstm_model.ckpt\n"
     ]
    },
    {
     "name": "stderr",
     "output_type": "stream",
     "text": [
      "  8%|▊         | 4000/50000 [1:36:58<18:17:29,  1.43s/it]"
     ]
    },
    {
     "name": "stdout",
     "output_type": "stream",
     "text": [
      "step 4000\n",
      "\t _UNK you talked to him did he look _UNK _GO _GO _GO\n",
      "\t =>  _GO he is not _EOS _PAD _PAD _PAD _PAD _PAD _PAD _PAD\n",
      "\tCorrent answer: _GO _UNK not by the rules of polite _UNK at _UNK _EOS\n",
      "\t how is he _GO _GO _GO _GO _GO _GO _GO _GO _GO\n",
      "\t =>  _GO he is not _EOS _PAD _PAD _PAD _PAD _PAD _PAD _PAD\n",
      "\tCorrent answer: _GO they got him to the hospital he is _UNK _EOS _PAD\n",
      "\t yeah i am _UNK and _UNK _GO _GO _GO _GO _GO _GO\n",
      "\t =>  _GO you _UNK _UNK _EOS _PAD _PAD _PAD _PAD _PAD _PAD _PAD\n",
      "\tCorrent answer: _GO so it is not a _UNK record _EOS _PAD _PAD _PAD\n",
      "\t you are _UNK us bill _GO _GO _GO _GO _GO _GO _GO\n",
      "\t =>  _GO i _UNK _UNK _EOS _PAD _PAD _PAD _PAD _PAD _PAD _PAD\n",
      "\tCorrent answer: _GO hey kid _EOS _PAD _PAD _PAD _PAD _PAD _PAD _PAD _PAD\n",
      "\tepoch loss: 2.80\n",
      "\n"
     ]
    },
    {
     "name": "stderr",
     "output_type": "stream",
     "text": [
      "\r",
      "  8%|▊         | 4001/50000 [1:37:00<23:00:17,  1.80s/it]"
     ]
    },
    {
     "name": "stdout",
     "output_type": "stream",
     "text": [
      "Model saved in file: ./lstm_model.ckpt\n"
     ]
    },
    {
     "name": "stderr",
     "output_type": "stream",
     "text": [
      " 10%|█         | 5000/50000 [2:00:57<17:53:50,  1.43s/it]"
     ]
    },
    {
     "name": "stdout",
     "output_type": "stream",
     "text": [
      "step 5000\n",
      "\t he did not kill her _GO _GO _GO _GO _GO _GO _GO\n",
      "\t =>  _GO you is not _PAD _PAD _PAD _PAD _PAD _PAD _PAD _PAD\n",
      "\tCorrent answer: _GO how do you know _EOS _PAD _PAD _PAD _PAD _PAD _PAD\n",
      "\t it is my name dil _GO _GO _GO _GO _GO _GO _GO\n",
      "\t =>  _GO i is _EOS _EOS _PAD _PAD _PAD _PAD _PAD _PAD _PAD\n",
      "\tCorrent answer: _GO what happened to jimmy _EOS _PAD _PAD _PAD _PAD _PAD _PAD\n",
      "\t walter we will pick up here next time _GO _GO _GO _GO\n",
      "\t =>  _GO you you _EOS _EOS _PAD _PAD _PAD _PAD _PAD _PAD _PAD\n",
      "\tCorrent answer: _GO i want to talk about it now _EOS _PAD _PAD _PAD\n",
      "\t we want to talk to ya about henry _UNK _GO _GO _GO\n",
      "\t =>  _GO what _UNK _EOS _PAD _PAD _PAD _PAD _PAD _PAD _PAD _PAD\n",
      "\tCorrent answer: _GO do not think i know him _EOS _PAD _PAD _PAD _PAD\n",
      "\tepoch loss: 2.93\n",
      "\n"
     ]
    },
    {
     "name": "stderr",
     "output_type": "stream",
     "text": [
      "\r",
      " 10%|█         | 5001/50000 [2:01:00<23:09:00,  1.85s/it]"
     ]
    },
    {
     "name": "stdout",
     "output_type": "stream",
     "text": [
      "Model saved in file: ./lstm_model.ckpt\n"
     ]
    },
    {
     "name": "stderr",
     "output_type": "stream",
     "text": [
      " 12%|█▏        | 6000/50000 [2:24:56<17:31:41,  1.43s/it]"
     ]
    },
    {
     "name": "stdout",
     "output_type": "stream",
     "text": [
      "step 6000\n",
      "\t no let me _GO _GO _GO _GO _GO _GO _GO _GO _GO\n",
      "\t =>  _GO you you you _EOS _PAD _PAD _PAD _PAD _PAD _PAD _PAD\n",
      "\tCorrent answer: _GO i do not care _EOS _PAD _PAD _PAD _PAD _PAD _PAD\n",
      "\t i am going out for awhile _GO _GO _GO _GO _GO _GO\n",
      "\t =>  _GO you you _EOS _EOS _PAD _PAD _PAD _PAD _PAD _PAD _PAD\n",
      "\tCorrent answer: _GO do you want the car _EOS _PAD _PAD _PAD _PAD _PAD\n",
      "\t _UNK how are you what are you doing in _UNK _GO _GO\n",
      "\t =>  _GO i am _UNK _EOS _PAD _PAD _PAD _PAD _PAD _PAD _PAD\n",
      "\tCorrent answer: _GO is he here are you with _UNK _EOS _PAD _PAD _PAD\n",
      "\t do you take _UNK _GO _GO _GO _GO _GO _GO _GO _GO\n",
      "\t =>  _GO no _UNK _EOS _PAD _PAD _PAD _PAD _PAD _PAD _PAD _PAD\n",
      "\tCorrent answer: _GO in my work yes _UNK _UNK you have to _EOS _PAD\n",
      "\tepoch loss: 2.60\n",
      "\n"
     ]
    },
    {
     "name": "stderr",
     "output_type": "stream",
     "text": [
      "\r",
      " 12%|█▏        | 6001/50000 [2:24:59<22:25:25,  1.83s/it]"
     ]
    },
    {
     "name": "stdout",
     "output_type": "stream",
     "text": [
      "Model saved in file: ./lstm_model.ckpt\n"
     ]
    },
    {
     "name": "stderr",
     "output_type": "stream",
     "text": [
      " 14%|█▍        | 7000/50000 [2:48:57<17:04:46,  1.43s/it]"
     ]
    },
    {
     "name": "stdout",
     "output_type": "stream",
     "text": [
      "step 7000\n",
      "\t did it ever bother you _GO _GO _GO _GO _GO _GO _GO\n",
      "\t =>  _GO no did not _EOS _EOS _PAD _PAD _PAD _PAD _PAD _PAD\n",
      "\tCorrent answer: _GO did it ever bother james _UNK _EOS _PAD _PAD _PAD _PAD\n",
      "\t the money is _UNK _GO _GO _GO _GO _GO _GO _GO _GO\n",
      "\t =>  _GO i _UNK _UNK _EOS _PAD _PAD _PAD _PAD _PAD _PAD _PAD\n",
      "\tCorrent answer: _GO i am afraid it is important _EOS _PAD _PAD _PAD _PAD\n",
      "\t like _UNK _GO _GO _GO _GO _GO _GO _GO _GO _GO _GO\n",
      "\t =>  _GO i _UNK _EOS _UNK _PAD _PAD _PAD _PAD _PAD _PAD _PAD\n",
      "\tCorrent answer: _GO you are saying they can think _EOS _PAD _PAD _PAD _PAD\n",
      "\t well _UNK is great _UNK are the best _GO _GO _GO _GO\n",
      "\t =>  _GO i _UNK _EOS _UNK _PAD _PAD _PAD _PAD _PAD _PAD _PAD\n",
      "\tCorrent answer: _GO then i have come to the right place _EOS _PAD _PAD\n",
      "\tepoch loss: 2.76\n",
      "\n"
     ]
    },
    {
     "name": "stderr",
     "output_type": "stream",
     "text": [
      "\r",
      " 14%|█▍        | 7001/50000 [2:49:00<21:55:17,  1.84s/it]"
     ]
    },
    {
     "name": "stdout",
     "output_type": "stream",
     "text": [
      "Model saved in file: ./lstm_model.ckpt\n"
     ]
    },
    {
     "name": "stderr",
     "output_type": "stream",
     "text": [
      " 16%|█▌        | 8000/50000 [3:12:56<16:46:12,  1.44s/it]"
     ]
    },
    {
     "name": "stdout",
     "output_type": "stream",
     "text": [
      "step 8000\n",
      "\t been _UNK it awful hard doc _GO _GO _GO _GO _GO _GO\n",
      "\t =>  _GO yeah is is _EOS _PAD _PAD _PAD _PAD _PAD _PAD _PAD\n",
      "\tCorrent answer: _GO nonsense i have not yet _UNK to _UNK myself _EOS _PAD\n",
      "\t can we make it _GO _GO _GO _GO _GO _GO _GO _GO\n",
      "\t =>  _GO i are _EOS _EOS _PAD _PAD _PAD _PAD _PAD _PAD _PAD\n",
      "\tCorrent answer: _GO we get to mexico we can have a life _EOS _PAD\n",
      "\t can i come over after jamie ' s asleep _GO _GO _GO\n",
      "\t =>  _GO i you _EOS _PAD _PAD _PAD _PAD _PAD _PAD _PAD _PAD\n",
      "\tCorrent answer: _GO my parents are going to come home early tonight _EOS _PAD\n",
      "\t do not do that thing that _UNK thing _GO _GO _GO _GO\n",
      "\t =>  _GO i is not _EOS _PAD _PAD _PAD _PAD _PAD _PAD _PAD\n",
      "\tCorrent answer: _GO it is a big part of the show _EOS _PAD _PAD\n",
      "\tepoch loss: 2.83\n",
      "\n"
     ]
    },
    {
     "name": "stderr",
     "output_type": "stream",
     "text": [
      "\r",
      " 16%|█▌        | 8001/50000 [3:12:59<21:21:14,  1.83s/it]"
     ]
    },
    {
     "name": "stdout",
     "output_type": "stream",
     "text": [
      "Model saved in file: ./lstm_model.ckpt\n"
     ]
    },
    {
     "name": "stderr",
     "output_type": "stream",
     "text": [
      " 18%|█▊        | 9000/50000 [3:36:56<16:17:28,  1.43s/it]"
     ]
    },
    {
     "name": "stdout",
     "output_type": "stream",
     "text": [
      "step 9000\n",
      "\t yes joe _GO _GO _GO _GO _GO _GO _GO _GO _GO _GO\n",
      "\t =>  _GO i you you _EOS _PAD _PAD _PAD _PAD _PAD _PAD _PAD\n",
      "\tCorrent answer: _GO good then you will not be _UNK your car _EOS _PAD\n",
      "\t mother of god _GO _GO _GO _GO _GO _GO _GO _GO _GO\n",
      "\t =>  _GO i is _EOS _PAD _PAD _PAD _PAD _PAD _PAD _PAD _PAD\n",
      "\tCorrent answer: _GO it is also a place of _UNK _EOS _PAD _PAD _PAD\n",
      "\t what did the beer cost _GO _GO _GO _GO _GO _GO _GO\n",
      "\t =>  _GO i do _EOS _EOS _PAD _PAD _PAD _PAD _PAD _PAD _PAD\n",
      "\tCorrent answer: _GO fifteen _UNK _EOS _PAD _PAD _PAD _PAD _PAD _PAD _PAD _PAD\n",
      "\t now you stay put _GO _GO _GO _GO _GO _GO _GO _GO\n",
      "\t =>  _GO i i _EOS _PAD _PAD _PAD _PAD _PAD _PAD _PAD _PAD\n",
      "\tCorrent answer: _GO i ai not drunk honey _EOS _PAD _PAD _PAD _PAD _PAD\n",
      "\tepoch loss: 2.61\n",
      "\n"
     ]
    },
    {
     "name": "stderr",
     "output_type": "stream",
     "text": [
      "\r",
      " 18%|█▊        | 9001/50000 [3:36:59<20:45:30,  1.82s/it]"
     ]
    },
    {
     "name": "stdout",
     "output_type": "stream",
     "text": [
      "Model saved in file: ./lstm_model.ckpt\n"
     ]
    },
    {
     "name": "stderr",
     "output_type": "stream",
     "text": [
      " 20%|██        | 10000/50000 [4:00:54<15:50:33,  1.43s/it]"
     ]
    },
    {
     "name": "stdout",
     "output_type": "stream",
     "text": [
      "step 10000\n",
      "\t surely you have seen a man _UNK _GO _GO _GO _GO _GO\n",
      "\t =>  _GO no i _EOS _EOS _PAD _PAD _PAD _PAD _PAD _PAD _PAD\n",
      "\tCorrent answer: _GO it is only been _UNK to me in your books _EOS\n",
      "\t are you ready _GO _GO _GO _GO _GO _GO _GO _GO _GO\n",
      "\t =>  _GO i i am _EOS _PAD _PAD _PAD _PAD _PAD _PAD _PAD\n",
      "\tCorrent answer: _GO i _UNK _EOS _PAD _PAD _PAD _PAD _PAD _PAD _PAD _PAD\n",
      "\t i have _UNK in love with somebody else _UNK _GO _GO _GO\n",
      "\t =>  _GO i _UNK _UNK _UNK _UNK _UNK _PAD _PAD _PAD _PAD _PAD\n",
      "\tCorrent answer: _GO and what did you do tonight honey _EOS _PAD _PAD _PAD\n",
      "\t it is _UNK _UNK it is _UNK taking on _UNK _GO _GO\n",
      "\t =>  _GO i is _UNK _UNK _PAD _PAD _PAD _PAD _PAD _PAD _PAD\n",
      "\tCorrent answer: _GO how quickly _EOS _PAD _PAD _PAD _PAD _PAD _PAD _PAD _PAD\n",
      "\tepoch loss: 2.88\n",
      "\n"
     ]
    },
    {
     "name": "stderr",
     "output_type": "stream",
     "text": [
      "\r",
      " 20%|██        | 10001/50000 [4:00:57<19:56:04,  1.79s/it]"
     ]
    },
    {
     "name": "stdout",
     "output_type": "stream",
     "text": [
      "Model saved in file: ./lstm_model.ckpt\n"
     ]
    },
    {
     "name": "stderr",
     "output_type": "stream",
     "text": [
      " 22%|██▏       | 11000/50000 [4:24:48<15:28:49,  1.43s/it]"
     ]
    },
    {
     "name": "stdout",
     "output_type": "stream",
     "text": [
      "step 11000\n",
      "\t the _UNK has disappeared _GO _GO _GO _GO _GO _GO _GO _GO\n",
      "\t =>  _GO what is _EOS _PAD _PAD _PAD _PAD _PAD _PAD _PAD _PAD\n",
      "\tCorrent answer: _GO the hospital _EOS _PAD _PAD _PAD _PAD _PAD _PAD _PAD _PAD\n",
      "\t _UNK _UNK _GO _GO _GO _GO _GO _GO _GO _GO _GO _GO\n",
      "\t =>  _GO _UNK _UNK _EOS _PAD _PAD _PAD _PAD _PAD _PAD _PAD _PAD\n",
      "\tCorrent answer: _GO who ' s inside you or the shark _EOS _PAD _PAD\n",
      "\t am i a suspect _GO _GO _GO _GO _GO _GO _GO _GO\n",
      "\t =>  _GO you you a _PAD _PAD _PAD _PAD _PAD _PAD _PAD _PAD\n",
      "\tCorrent answer: _GO no it would be _UNK but no _EOS _PAD _PAD _PAD\n",
      "\t that is right now move _GO _GO _GO _GO _GO _GO _GO\n",
      "\t =>  _GO i is _UNK _UNK _EOS _PAD _PAD _PAD _PAD _PAD _PAD\n",
      "\tCorrent answer: _GO arlo $ _EOS _PAD _PAD _PAD _PAD _PAD _PAD _PAD _PAD\n",
      "\tepoch loss: 2.53\n",
      "\n"
     ]
    },
    {
     "name": "stderr",
     "output_type": "stream",
     "text": [
      "\r",
      " 22%|██▏       | 11001/50000 [4:24:51<19:38:40,  1.81s/it]"
     ]
    },
    {
     "name": "stdout",
     "output_type": "stream",
     "text": [
      "Model saved in file: ./lstm_model.ckpt\n"
     ]
    },
    {
     "name": "stderr",
     "output_type": "stream",
     "text": [
      " 24%|██▍       | 12000/50000 [4:48:46<15:04:06,  1.43s/it]"
     ]
    },
    {
     "name": "stdout",
     "output_type": "stream",
     "text": [
      "step 12000\n",
      "\t _UNK planet earth one point six hours present speed _GO _GO _GO\n",
      "\t =>  _GO _UNK _UNK _UNK _EOS _PAD _PAD _PAD _PAD _PAD _PAD _PAD\n",
      "\tCorrent answer: _GO _UNK on course _UNK any signs of _UNK _UNK _EOS _PAD\n",
      "\t the _UNK of _UNK thomas _UNK _UNK _GO _GO _GO _GO _GO\n",
      "\t =>  _GO _UNK _UNK _UNK _PAD _PAD _PAD _PAD _PAD _PAD _PAD _PAD\n",
      "\tCorrent answer: _GO _UNK thomas _UNK he wrote about the seven _UNK _UNK _EOS\n",
      "\t i been thinking _GO _GO _GO _GO _GO _GO _GO _GO _GO\n",
      "\t =>  _GO you you you _EOS _PAD _PAD _PAD _PAD _PAD _PAD _PAD\n",
      "\tCorrent answer: _GO thinking about what _EOS _PAD _PAD _PAD _PAD _PAD _PAD _PAD\n",
      "\t you could call it that my eyes are open _GO _GO _GO\n",
      "\t =>  _GO i _UNK _EOS _EOS _PAD _PAD _PAD _PAD _PAD _PAD _PAD\n",
      "\tCorrent answer: _GO me too i feel awake _EOS _PAD _PAD _PAD _PAD _PAD\n",
      "\tepoch loss: 2.52\n",
      "\n"
     ]
    },
    {
     "name": "stderr",
     "output_type": "stream",
     "text": [
      "\r",
      " 24%|██▍       | 12001/50000 [4:48:48<19:19:18,  1.83s/it]"
     ]
    },
    {
     "name": "stdout",
     "output_type": "stream",
     "text": [
      "Model saved in file: ./lstm_model.ckpt\n"
     ]
    },
    {
     "name": "stderr",
     "output_type": "stream",
     "text": [
      " 26%|██▌       | 13000/50000 [5:12:44<14:38:40,  1.42s/it]"
     ]
    },
    {
     "name": "stdout",
     "output_type": "stream",
     "text": [
      "step 13000\n",
      "\t shhh wait for my _UNK _GO _GO _GO _GO _GO _GO _GO\n",
      "\t =>  _GO i is _EOS _PAD _PAD _PAD _PAD _PAD _PAD _PAD _PAD\n",
      "\tCorrent answer: _GO dignan i _EOS _PAD _PAD _PAD _PAD _PAD _PAD _PAD _PAD\n",
      "\t i am not going anywhere _GO _GO _GO _GO _GO _GO _GO\n",
      "\t =>  _GO you you not _PAD _PAD _PAD _PAD _PAD _PAD _PAD _PAD\n",
      "\tCorrent answer: _GO _UNK these people mean business _EOS _PAD _PAD _PAD _PAD _PAD\n",
      "\t that is happening _GO _GO _GO _GO _GO _GO _GO _GO _GO\n",
      "\t =>  _GO i are not _UNK _PAD _PAD _PAD _PAD _PAD _PAD _PAD\n",
      "\tCorrent answer: _GO she is gone _EOS _PAD _PAD _PAD _PAD _PAD _PAD _PAD\n",
      "\t that is not fred _UNK _GO _GO _GO _GO _GO _GO _GO\n",
      "\t =>  _GO i is not _UNK _PAD _PAD _PAD _PAD _PAD _PAD _PAD\n",
      "\tCorrent answer: _GO no sir it is not _EOS _PAD _PAD _PAD _PAD _PAD\n",
      "\tepoch loss: 2.56\n",
      "\n"
     ]
    },
    {
     "name": "stderr",
     "output_type": "stream",
     "text": [
      "\r",
      " 26%|██▌       | 13001/50000 [5:12:46<19:09:52,  1.86s/it]"
     ]
    },
    {
     "name": "stdout",
     "output_type": "stream",
     "text": [
      "Model saved in file: ./lstm_model.ckpt\n"
     ]
    },
    {
     "name": "stderr",
     "output_type": "stream",
     "text": [
      " 28%|██▊       | 14000/50000 [5:36:42<14:20:48,  1.43s/it]"
     ]
    },
    {
     "name": "stdout",
     "output_type": "stream",
     "text": [
      "step 14000\n",
      "\t harry s _UNK _GO _GO _GO _GO _GO _GO _GO _GO _GO\n",
      "\t =>  _GO _UNK _UNK _EOS _PAD _PAD _PAD _PAD _PAD _PAD _PAD _PAD\n",
      "\tCorrent answer: _GO my parents were great _UNK of the _UNK president _EOS _PAD\n",
      "\t we _UNK that and decided not to _GO _GO _GO _GO _GO\n",
      "\t =>  _GO i she not _UNK _EOS _EOS _PAD _PAD _PAD _PAD _PAD\n",
      "\tCorrent answer: _GO why not _EOS _PAD _PAD _PAD _PAD _PAD _PAD _PAD _PAD\n",
      "\t i never played a _UNK thief _GO _GO _GO _GO _GO _GO\n",
      "\t =>  _GO you _UNK _EOS _UNK _PAD _PAD _PAD _PAD _PAD _PAD _PAD\n",
      "\tCorrent answer: _GO who am i thinking of _EOS _PAD _PAD _PAD _PAD _PAD\n",
      "\t shoot it _GO _GO _GO _GO _GO _GO _GO _GO _GO _GO\n",
      "\t =>  _GO i _UNK _EOS _EOS _PAD _PAD _PAD _PAD _PAD _PAD _PAD\n",
      "\tCorrent answer: _GO not yet i want to study its _UNK _EOS _PAD _PAD\n",
      "\tepoch loss: 2.58\n",
      "\n"
     ]
    },
    {
     "name": "stderr",
     "output_type": "stream",
     "text": [
      "\r",
      " 28%|██▊       | 14001/50000 [5:36:45<18:20:21,  1.83s/it]"
     ]
    },
    {
     "name": "stdout",
     "output_type": "stream",
     "text": [
      "Model saved in file: ./lstm_model.ckpt\n"
     ]
    },
    {
     "name": "stderr",
     "output_type": "stream",
     "text": [
      " 30%|███       | 15000/50000 [6:00:39<13:56:22,  1.43s/it]"
     ]
    },
    {
     "name": "stdout",
     "output_type": "stream",
     "text": [
      "step 15000\n",
      "\t oh _UNK _UNK really cool _UNK _UNK _GO _GO _GO _GO _GO\n",
      "\t =>  _GO _UNK _UNK _UNK _UNK _PAD _PAD _PAD _PAD _PAD _PAD _PAD\n",
      "\tCorrent answer: _GO uh huh huh we will do it sir _EOS _PAD _PAD\n",
      "\t i thought it was not real _GO _GO _GO _GO _GO _GO\n",
      "\t =>  _GO it is not _UNK _EOS _PAD _PAD _PAD _PAD _PAD _PAD\n",
      "\tCorrent answer: _GO your mind makes it real _EOS _PAD _PAD _PAD _PAD _PAD\n",
      "\t why should they _GO _GO _GO _GO _GO _GO _GO _GO _GO\n",
      "\t =>  _GO because do not _UNK _EOS _PAD _PAD _PAD _PAD _PAD _PAD\n",
      "\tCorrent answer: _GO i do not know _EOS _PAD _PAD _PAD _PAD _PAD _PAD\n",
      "\t _UNK they are dead dead _UNK _GO _GO _GO _GO _GO _GO\n",
      "\t =>  _GO i _UNK _EOS _EOS _PAD _PAD _PAD _PAD _PAD _PAD _PAD\n",
      "\tCorrent answer: _GO of course they are dead they are _UNK _EOS _PAD _PAD\n",
      "\tepoch loss: 2.39\n",
      "\n"
     ]
    },
    {
     "name": "stderr",
     "output_type": "stream",
     "text": [
      "\r",
      " 30%|███       | 15001/50000 [6:00:42<18:33:28,  1.91s/it]"
     ]
    },
    {
     "name": "stdout",
     "output_type": "stream",
     "text": [
      "Model saved in file: ./lstm_model.ckpt\n"
     ]
    },
    {
     "name": "stderr",
     "output_type": "stream",
     "text": [
      " 32%|███▏      | 16000/50000 [6:24:39<13:29:39,  1.43s/it]"
     ]
    },
    {
     "name": "stdout",
     "output_type": "stream",
     "text": [
      "step 16000\n",
      "\t on what what makes you so certain _GO _GO _GO _GO _GO\n",
      "\t =>  _GO i _UNK _UNK _UNK _UNK _PAD _PAD _PAD _PAD _PAD _PAD\n",
      "\tCorrent answer: _GO i will bloody well ask him _EOS _PAD _PAD _PAD _PAD\n",
      "\t you are sure _GO _GO _GO _GO _GO _GO _GO _GO _GO\n",
      "\t =>  _GO i am _EOS _EOS _PAD _PAD _PAD _PAD _PAD _PAD _PAD\n",
      "\tCorrent answer: _GO no gun _UNK air i can live here breathe _EOS _PAD\n",
      "\t a rest _GO _GO _GO _GO _GO _GO _GO _GO _GO _GO\n",
      "\t =>  _GO a _UNK _EOS _EOS _PAD _PAD _PAD _PAD _PAD _PAD _PAD\n",
      "\tCorrent answer: _GO yeah _UNK just is not fun anymore you know _EOS _PAD\n",
      "\t i made _UNK do you want some _GO _GO _GO _GO _GO\n",
      "\t =>  _GO no i _EOS _EOS _PAD _PAD _PAD _PAD _PAD _PAD _PAD\n",
      "\tCorrent answer: _GO ii really have to get up early for class tomorrow _EOS\n",
      "\tepoch loss: 2.80\n",
      "\n"
     ]
    },
    {
     "name": "stderr",
     "output_type": "stream",
     "text": [
      "\r",
      " 32%|███▏      | 16001/50000 [6:24:41<16:59:12,  1.80s/it]"
     ]
    },
    {
     "name": "stdout",
     "output_type": "stream",
     "text": [
      "Model saved in file: ./lstm_model.ckpt\n"
     ]
    },
    {
     "name": "stderr",
     "output_type": "stream",
     "text": [
      " 34%|███▍      | 17000/50000 [6:48:38<13:09:17,  1.44s/it]"
     ]
    },
    {
     "name": "stdout",
     "output_type": "stream",
     "text": [
      "step 17000\n",
      "\t are you talking to me _GO _GO _GO _GO _GO _GO _GO\n",
      "\t =>  _GO no _UNK _UNK _UNK _EOS _PAD _PAD _PAD _PAD _PAD _PAD\n",
      "\tCorrent answer: _GO it is okay _EOS _PAD _PAD _PAD _PAD _PAD _PAD _PAD\n",
      "\t notice the big one holding hands with the _UNK _GO _GO _GO\n",
      "\t =>  _GO what is _EOS _EOS _PAD _PAD _PAD _PAD _PAD _PAD _PAD\n",
      "\tCorrent answer: _GO well uh who _UNK _UNK sir _EOS _PAD _PAD _PAD _PAD\n",
      "\t what the hell ' s going on _GO _GO _GO _GO _GO\n",
      "\t =>  _GO i wish to to _UNK _PAD _PAD _PAD _PAD _PAD _PAD\n",
      "\tCorrent answer: _GO this is my area of _UNK _EOS _PAD _PAD _PAD _PAD\n",
      "\t sixteen ' c ' why _GO _GO _GO _GO _GO _GO _GO\n",
      "\t =>  _GO i ' _EOS _EOS _PAD _PAD _PAD _PAD _PAD _PAD _PAD\n",
      "\tCorrent answer: _GO he is carrying a bomb _EOS _PAD _PAD _PAD _PAD _PAD\n",
      "\tepoch loss: 2.46\n",
      "\n"
     ]
    },
    {
     "name": "stderr",
     "output_type": "stream",
     "text": [
      "\r",
      " 34%|███▍      | 17001/50000 [6:48:41<17:13:41,  1.88s/it]"
     ]
    },
    {
     "name": "stdout",
     "output_type": "stream",
     "text": [
      "Model saved in file: ./lstm_model.ckpt\n"
     ]
    },
    {
     "name": "stderr",
     "output_type": "stream",
     "text": [
      " 36%|███▌      | 18000/50000 [7:12:37<12:46:58,  1.44s/it]"
     ]
    },
    {
     "name": "stdout",
     "output_type": "stream",
     "text": [
      "step 18000\n",
      "\t well you cannot blame them in a way _GO _GO _GO _GO\n",
      "\t =>  _GO that is _EOS _PAD _PAD _PAD _PAD _PAD _PAD _PAD _PAD\n",
      "\tCorrent answer: _GO i can take care of myself you know that _EOS _PAD\n",
      "\t do you miss your home captain have you someone there _GO _GO\n",
      "\t =>  _GO i thanks _EOS _EOS _PAD _PAD _PAD _PAD _PAD _PAD _PAD\n",
      "\tCorrent answer: _GO no not really _EOS _PAD _PAD _PAD _PAD _PAD _PAD _PAD\n",
      "\t red _UNK _GO _GO _GO _GO _GO _GO _GO _GO _GO _GO\n",
      "\t =>  _GO _UNK _UNK _EOS _PAD _PAD _PAD _PAD _PAD _PAD _PAD _PAD\n",
      "\tCorrent answer: _GO right sorry _EOS _PAD _PAD _PAD _PAD _PAD _PAD _PAD _PAD\n",
      "\t he was not even in the car _GO _GO _GO _GO _GO\n",
      "\t =>  _GO _UNK is you _EOS _EOS _PAD _PAD _PAD _PAD _PAD _PAD\n",
      "\tCorrent answer: _GO _UNK there _EOS _PAD _PAD _PAD _PAD _PAD _PAD _PAD _PAD\n",
      "\tepoch loss: 2.35\n",
      "\n"
     ]
    },
    {
     "name": "stderr",
     "output_type": "stream",
     "text": [
      "\r",
      " 36%|███▌      | 18001/50000 [7:12:40<16:42:43,  1.88s/it]"
     ]
    },
    {
     "name": "stdout",
     "output_type": "stream",
     "text": [
      "Model saved in file: ./lstm_model.ckpt\n"
     ]
    },
    {
     "name": "stderr",
     "output_type": "stream",
     "text": [
      " 38%|███▊      | 19000/50000 [7:36:36<12:28:03,  1.45s/it]"
     ]
    },
    {
     "name": "stdout",
     "output_type": "stream",
     "text": [
      "step 19000\n",
      "\t i hardly _UNK so after the _UNK _GO _GO _GO _GO _GO\n",
      "\t =>  _GO you _UNK _UNK _EOS _PAD _PAD _PAD _PAD _PAD _PAD _PAD\n",
      "\tCorrent answer: _GO no no of course not _EOS _PAD _PAD _PAD _PAD _PAD\n",
      "\t let her go _GO _GO _GO _GO _GO _GO _GO _GO _GO\n",
      "\t =>  _GO _UNK ' _EOS _EOS _PAD _PAD _PAD _PAD _PAD _PAD _PAD\n",
      "\tCorrent answer: _GO i hear a train coming drink _EOS _PAD _PAD _PAD _PAD\n",
      "\t humor that is a difficult _UNK it is not _UNK _GO _GO\n",
      "\t =>  _GO it it _EOS know _PAD _PAD _PAD _PAD _PAD _PAD _PAD\n",
      "\tCorrent answer: _GO we learn by doing lieutenant _EOS _PAD _PAD _PAD _PAD _PAD\n",
      "\t plenty _UNK inside jimmy seen it once _GO _GO _GO _GO _GO\n",
      "\t =>  _GO _UNK _UNK _UNK _EOS _PAD _PAD _PAD _PAD _PAD _PAD _PAD\n",
      "\tCorrent answer: _GO you have been inside _EOS _PAD _PAD _PAD _PAD _PAD _PAD\n",
      "\tepoch loss: 2.26\n",
      "\n"
     ]
    },
    {
     "name": "stderr",
     "output_type": "stream",
     "text": [
      "\r",
      " 38%|███▊      | 19001/50000 [7:36:38<15:56:20,  1.85s/it]"
     ]
    },
    {
     "name": "stdout",
     "output_type": "stream",
     "text": [
      "Model saved in file: ./lstm_model.ckpt\n"
     ]
    },
    {
     "name": "stderr",
     "output_type": "stream",
     "text": [
      " 40%|████      | 20000/50000 [8:00:35<12:09:38,  1.46s/it]"
     ]
    },
    {
     "name": "stdout",
     "output_type": "stream",
     "text": [
      "step 20000\n",
      "\t kiss me once amy kiss me once for luck _GO _GO _GO\n",
      "\t =>  _GO no is _EOS _EOS _PAD _PAD _PAD _PAD _PAD _PAD _PAD\n",
      "\tCorrent answer: _GO sure _UNK sure _EOS _PAD _PAD _PAD _PAD _PAD _PAD _PAD\n",
      "\t that is deep _GO _GO _GO _GO _GO _GO _GO _GO _GO\n",
      "\t =>  _GO you is _UNK _EOS _EOS _PAD _PAD _PAD _PAD _PAD _PAD\n",
      "\tCorrent answer: _GO your act only works with an _UNK _EOS _PAD _PAD _PAD\n",
      "\t sit down jake _GO _GO _GO _GO _GO _GO _GO _GO _GO\n",
      "\t =>  _GO what is _EOS _EOS _PAD _PAD _PAD _PAD _PAD _PAD _PAD\n",
      "\tCorrent answer: _GO where are they _EOS _PAD _PAD _PAD _PAD _PAD _PAD _PAD\n",
      "\t okay this is working _GO _GO _GO _GO _GO _GO _GO _GO\n",
      "\t =>  _GO int _UNK _UNK _EOS _PAD _PAD _PAD _PAD _PAD _PAD _PAD\n",
      "\tCorrent answer: _GO you are not a loser _EOS _PAD _PAD _PAD _PAD _PAD\n",
      "\tepoch loss: 2.36\n",
      "\n"
     ]
    },
    {
     "name": "stderr",
     "output_type": "stream",
     "text": [
      "\r",
      " 40%|████      | 20001/50000 [8:00:38<16:23:36,  1.97s/it]"
     ]
    },
    {
     "name": "stdout",
     "output_type": "stream",
     "text": [
      "Model saved in file: ./lstm_model.ckpt\n"
     ]
    },
    {
     "name": "stderr",
     "output_type": "stream",
     "text": [
      " 42%|████▏     | 21000/50000 [8:24:36<11:39:39,  1.45s/it]"
     ]
    },
    {
     "name": "stdout",
     "output_type": "stream",
     "text": [
      "step 21000\n",
      "\t just look at all those people _GO _GO _GO _GO _GO _GO\n",
      "\t =>  _GO you is _EOS _EOS _PAD _PAD _PAD _PAD _PAD _PAD _PAD\n",
      "\tCorrent answer: _GO i thought of something _EOS _PAD _PAD _PAD _PAD _PAD _PAD\n",
      "\t well _UNK i think you are afraid _GO _GO _GO _GO _GO\n",
      "\t =>  _GO i i not _EOS _EOS _PAD _PAD _PAD _PAD _PAD _PAD\n",
      "\tCorrent answer: _GO well jim i think you are full of shit _EOS _PAD\n",
      "\t i am through _UNK _GO _GO _GO _GO _GO _GO _GO _GO\n",
      "\t =>  _GO i are _EOS _PAD _PAD _PAD _PAD _PAD _PAD _PAD _PAD\n",
      "\tCorrent answer: _GO i can see that why _EOS _PAD _PAD _PAD _PAD _PAD\n",
      "\t i know it is a _UNK late for an _UNK _GO _GO\n",
      "\t =>  _GO i _UNK _EOS _PAD _PAD _PAD _PAD _PAD _PAD _PAD _PAD\n",
      "\tCorrent answer: _GO much too late _EOS _PAD _PAD _PAD _PAD _PAD _PAD _PAD\n",
      "\tepoch loss: 2.33\n",
      "\n"
     ]
    },
    {
     "name": "stderr",
     "output_type": "stream",
     "text": [
      "\r",
      " 42%|████▏     | 21001/50000 [8:24:39<14:50:18,  1.84s/it]"
     ]
    },
    {
     "name": "stdout",
     "output_type": "stream",
     "text": [
      "Model saved in file: ./lstm_model.ckpt\n"
     ]
    },
    {
     "name": "stderr",
     "output_type": "stream",
     "text": [
      " 44%|████▍     | 22000/50000 [8:48:30<11:07:56,  1.43s/it]"
     ]
    },
    {
     "name": "stdout",
     "output_type": "stream",
     "text": [
      "step 22000\n",
      "\t what is he saying come on what did he say _GO _GO\n",
      "\t =>  _GO he he he _UNK _EOS _PAD _PAD _PAD _PAD _PAD _PAD\n",
      "\tCorrent answer: _GO he said be careful _EOS _PAD _PAD _PAD _PAD _PAD _PAD\n",
      "\t can you handle one of these _GO _GO _GO _GO _GO _GO\n",
      "\t =>  _GO we are not pull _EOS _EOS _PAD _PAD _PAD _PAD _PAD\n",
      "\tCorrent answer: _GO _UNK in _EOS _PAD _PAD _PAD _PAD _PAD _PAD _PAD _PAD\n",
      "\t yeah get _UNK of _UNK _GO _GO _GO _GO _GO _GO _GO\n",
      "\t =>  _GO _UNK _UNK _EOS _PAD _PAD _PAD _PAD _PAD _PAD _PAD _PAD\n",
      "\tCorrent answer: _GO no no i was not trying _EOS _PAD _PAD _PAD _PAD\n",
      "\t that is the price my brother _GO _GO _GO _GO _GO _GO\n",
      "\t =>  _GO i _UNK _UNK _UNK _UNK _EOS _PAD _PAD _PAD _PAD _PAD\n",
      "\tCorrent answer: _GO yo i do not have that kind of cash _EOS _PAD\n",
      "\tepoch loss: 2.36\n",
      "\n"
     ]
    },
    {
     "name": "stderr",
     "output_type": "stream",
     "text": [
      "\r",
      " 44%|████▍     | 22001/50000 [8:48:33<14:10:04,  1.82s/it]"
     ]
    },
    {
     "name": "stdout",
     "output_type": "stream",
     "text": [
      "Model saved in file: ./lstm_model.ckpt\n"
     ]
    },
    {
     "name": "stderr",
     "output_type": "stream",
     "text": [
      " 46%|████▌     | 23000/50000 [9:12:27<10:43:50,  1.43s/it]"
     ]
    },
    {
     "name": "stdout",
     "output_type": "stream",
     "text": [
      "step 23000\n",
      "\t yeah sure _GO _GO _GO _GO _GO _GO _GO _GO _GO _GO\n",
      "\t =>  _GO i will _EOS _EOS _PAD _PAD _PAD _PAD _PAD _PAD _PAD\n",
      "\tCorrent answer: _GO how about this if you are in he is in _EOS\n",
      "\t i do not like dancing _GO _GO _GO _GO _GO _GO _GO\n",
      "\t =>  _GO you you you a _PAD _PAD _PAD _PAD _PAD _PAD _PAD\n",
      "\tCorrent answer: _GO did you ever go i one _EOS _PAD _PAD _PAD _PAD\n",
      "\t _UNK _UNK _GO _GO _GO _GO _GO _GO _GO _GO _GO _GO\n",
      "\t =>  _GO _UNK _UNK _EOS _PAD _PAD _PAD _PAD _PAD _PAD _PAD _PAD\n",
      "\tCorrent answer: _GO the teeth doing any talking _EOS _PAD _PAD _PAD _PAD _PAD\n",
      "\t what about the heart that you promised _UNK man _GO _GO _GO\n",
      "\t =>  _GO i i not not _UNK _PAD _PAD _PAD _PAD _PAD _PAD\n",
      "\tCorrent answer: _GO well i _EOS _PAD _PAD _PAD _PAD _PAD _PAD _PAD _PAD\n",
      "\tepoch loss: 2.42\n",
      "\n"
     ]
    },
    {
     "name": "stderr",
     "output_type": "stream",
     "text": [
      "\r",
      " 46%|████▌     | 23001/50000 [9:12:30<13:34:09,  1.81s/it]"
     ]
    },
    {
     "name": "stdout",
     "output_type": "stream",
     "text": [
      "Model saved in file: ./lstm_model.ckpt\n"
     ]
    },
    {
     "name": "stderr",
     "output_type": "stream",
     "text": [
      " 48%|████▊     | 24000/50000 [9:36:25<10:31:04,  1.46s/it]"
     ]
    },
    {
     "name": "stdout",
     "output_type": "stream",
     "text": [
      "step 24000\n",
      "\t _UNK had a _UNK _UNK to a _UNK _UNK _GO _GO _GO\n",
      "\t =>  _GO _UNK _UNK _EOS _EOS _PAD _PAD _PAD _PAD _PAD _PAD _PAD\n",
      "\tCorrent answer: _GO you called _UNK except the call was _UNK _EOS _PAD _PAD\n",
      "\t six feet seven eight _GO _GO _GO _GO _GO _GO _GO _GO\n",
      "\t =>  _GO how _UNK _EOS _EOS _PAD _PAD _PAD _PAD _PAD _PAD _PAD\n",
      "\tCorrent answer: _GO that is it it is on the _UNK _EOS _PAD _PAD\n",
      "\t there is no _UNK _UNK _GO _GO _GO _GO _GO _GO _GO\n",
      "\t =>  _GO you you not _UNK _UNK _EOS _PAD _PAD _PAD _PAD _PAD\n",
      "\tCorrent answer: _GO _UNK _UNK _UNK court _EOS _PAD _PAD _PAD _PAD _PAD _PAD\n",
      "\t i love you so much _GO _GO _GO _GO _GO _GO _GO\n",
      "\t =>  _GO i love you _EOS _EOS _EOS _PAD _PAD _PAD _PAD _PAD\n",
      "\tCorrent answer: _GO i love you too _UNK i love you too _EOS _PAD\n",
      "\tepoch loss: 2.40\n",
      "\n"
     ]
    },
    {
     "name": "stderr",
     "output_type": "stream",
     "text": [
      "\r",
      " 48%|████▊     | 24001/50000 [9:36:28<13:16:03,  1.84s/it]"
     ]
    },
    {
     "name": "stdout",
     "output_type": "stream",
     "text": [
      "Model saved in file: ./lstm_model.ckpt\n"
     ]
    },
    {
     "name": "stderr",
     "output_type": "stream",
     "text": [
      " 50%|█████     | 25000/50000 [10:00:21<9:58:32,  1.44s/it] "
     ]
    },
    {
     "name": "stdout",
     "output_type": "stream",
     "text": [
      "step 25000\n",
      "\t sal sal it is me nick _GO _GO _GO _GO _GO _GO\n",
      "\t =>  _GO is is _EOS _EOS _PAD _PAD _PAD _PAD _PAD _PAD _PAD\n",
      "\tCorrent answer: _GO nick hey how is things _EOS _PAD _PAD _PAD _PAD _PAD\n",
      "\t you never had it _GO _GO _GO _GO _GO _GO _GO _GO\n",
      "\t =>  _GO i was _EOS _EOS _PAD _PAD _PAD _PAD _PAD _PAD _PAD\n",
      "\tCorrent answer: _GO _UNK and i do not like each other much _EOS _PAD\n",
      "\t _UNK _UNK _GO _GO _GO _GO _GO _GO _GO _GO _GO _GO\n",
      "\t =>  _GO _UNK _UNK _EOS _PAD _PAD _PAD _PAD _PAD _PAD _PAD _PAD\n",
      "\tCorrent answer: _GO yes sir elevator _EOS _PAD _PAD _PAD _PAD _PAD _PAD _PAD\n",
      "\t you want something to drink _GO _GO _GO _GO _GO _GO _GO\n",
      "\t =>  _GO yeah i _EOS _PAD _PAD _PAD _PAD _PAD _PAD _PAD _PAD\n",
      "\tCorrent answer: _GO um coffee if that is okay _EOS _PAD _PAD _PAD _PAD\n",
      "\tepoch loss: 2.08\n",
      "\n"
     ]
    },
    {
     "name": "stderr",
     "output_type": "stream",
     "text": [
      "\r",
      " 50%|█████     | 25001/50000 [10:00:24<12:40:06,  1.82s/it]"
     ]
    },
    {
     "name": "stdout",
     "output_type": "stream",
     "text": [
      "Model saved in file: ./lstm_model.ckpt\n"
     ]
    },
    {
     "name": "stderr",
     "output_type": "stream",
     "text": [
      " 52%|█████▏    | 26000/50000 [10:24:18<9:35:59,  1.44s/it] "
     ]
    },
    {
     "name": "stdout",
     "output_type": "stream",
     "text": [
      "step 26000\n",
      "\t anything else _GO _GO _GO _GO _GO _GO _GO _GO _GO _GO\n",
      "\t =>  _GO no rock _EOS _EOS _PAD _PAD _PAD _PAD _PAD _PAD _PAD\n",
      "\tCorrent answer: _GO did _UNK show you a woman named _UNK _EOS _PAD _PAD\n",
      "\t i was hoping we could talk _GO _GO _GO _GO _GO _GO\n",
      "\t =>  _GO i do not _EOS _EOS _PAD _PAD _PAD _PAD _PAD _PAD\n",
      "\tCorrent answer: _GO talk about what _EOS _PAD _PAD _PAD _PAD _PAD _PAD _PAD\n",
      "\t barry _UNK _GO _GO _GO _GO _GO _GO _GO _GO _GO _GO\n",
      "\t =>  _GO peter _UNK _EOS _PAD _PAD _PAD _PAD _PAD _PAD _PAD _PAD\n",
      "\tCorrent answer: _GO and your _UNK security number _EOS _PAD _PAD _PAD _PAD _PAD\n",
      "\t but you said you have the worst _UNK _GO _GO _GO _GO\n",
      "\t =>  _GO i was _UNK _UNK _UNK _EOS _EOS _PAD _PAD _PAD _PAD\n",
      "\tCorrent answer: _GO i do _EOS _PAD _PAD _PAD _PAD _PAD _PAD _PAD _PAD\n",
      "\tepoch loss: 2.18\n",
      "\n"
     ]
    },
    {
     "name": "stderr",
     "output_type": "stream",
     "text": [
      "\r",
      " 52%|█████▏    | 26001/50000 [10:24:21<12:11:00,  1.83s/it]"
     ]
    },
    {
     "name": "stdout",
     "output_type": "stream",
     "text": [
      "Model saved in file: ./lstm_model.ckpt\n"
     ]
    },
    {
     "name": "stderr",
     "output_type": "stream",
     "text": [
      " 54%|█████▍    | 27000/50000 [10:48:18<9:15:28,  1.45s/it] "
     ]
    },
    {
     "name": "stdout",
     "output_type": "stream",
     "text": [
      "step 27000\n",
      "\t did you always want to be a lawyer _GO _GO _GO _GO\n",
      "\t =>  _GO i did not _UNK _EOS _EOS _PAD _PAD _PAD _PAD _PAD\n",
      "\tCorrent answer: _GO no i wanted to be a professional _UNK player _EOS _PAD\n",
      "\t where are they last chance _GO _GO _GO _GO _GO _GO _GO\n",
      "\t =>  _GO _UNK _UNK _UNK _EOS _PAD _PAD _PAD _PAD _PAD _PAD _PAD\n",
      "\tCorrent answer: _GO or what you will bleed all over my _UNK _EOS _PAD\n",
      "\t a magic _UNK _GO _GO _GO _GO _GO _GO _GO _GO _GO\n",
      "\t =>  _GO a _UNK _EOS _EOS _PAD _PAD _PAD _PAD _PAD _PAD _PAD\n",
      "\tCorrent answer: _GO to the _UNK _EOS _PAD _PAD _PAD _PAD _PAD _PAD _PAD\n",
      "\t it does not _UNK mean she is _GO _GO _GO _GO _GO\n",
      "\t =>  _GO i means you to you _EOS _EOS _PAD _PAD _PAD _PAD\n",
      "\tCorrent answer: _GO let ' s go around back _EOS _PAD _PAD _PAD _PAD\n",
      "\tepoch loss: 2.38\n",
      "\n"
     ]
    },
    {
     "name": "stderr",
     "output_type": "stream",
     "text": [
      "\r",
      " 54%|█████▍    | 27001/50000 [10:48:21<11:50:16,  1.85s/it]"
     ]
    },
    {
     "name": "stdout",
     "output_type": "stream",
     "text": [
      "Model saved in file: ./lstm_model.ckpt\n"
     ]
    },
    {
     "name": "stderr",
     "output_type": "stream",
     "text": [
      " 56%|█████▌    | 28000/50000 [11:12:15<8:46:34,  1.44s/it] "
     ]
    },
    {
     "name": "stdout",
     "output_type": "stream",
     "text": [
      "step 28000\n",
      "\t _UNK i could tell _GO _GO _GO _GO _GO _GO _GO _GO\n",
      "\t =>  _GO i is _EOS _PAD _PAD _PAD _PAD _PAD _PAD _PAD _PAD\n",
      "\tCorrent answer: _GO i just hope it was worth three hundred bucks _EOS _PAD\n",
      "\t you murdered _UNK _GO _GO _GO _GO _GO _GO _GO _GO _GO\n",
      "\t =>  _GO i _UNK not _EOS _PAD _PAD _PAD _PAD _PAD _PAD _PAD\n",
      "\tCorrent answer: _GO i had to you made me _EOS _PAD _PAD _PAD _PAD\n",
      "\t say the words i understand _GO _GO _GO _GO _GO _GO _GO\n",
      "\t =>  _GO hey not not _EOS _PAD _PAD _PAD _PAD _PAD _PAD _PAD\n",
      "\tCorrent answer: _GO i understand _EOS _PAD _PAD _PAD _PAD _PAD _PAD _PAD _PAD\n",
      "\t who the _GO _GO _GO _GO _GO _GO _GO _GO _GO _GO\n",
      "\t =>  _GO _UNK _UNK _EOS _UNK _EOS _PAD _PAD _PAD _PAD _PAD _PAD\n",
      "\tCorrent answer: _GO _UNK of _UNK _EOS _PAD _PAD _PAD _PAD _PAD _PAD _PAD\n",
      "\tepoch loss: 1.90\n",
      "\n"
     ]
    },
    {
     "name": "stderr",
     "output_type": "stream",
     "text": [
      "\r",
      " 56%|█████▌    | 28001/50000 [11:12:18<11:14:07,  1.84s/it]"
     ]
    },
    {
     "name": "stdout",
     "output_type": "stream",
     "text": [
      "Model saved in file: ./lstm_model.ckpt\n"
     ]
    },
    {
     "name": "stderr",
     "output_type": "stream",
     "text": [
      " 58%|█████▊    | 29000/50000 [11:36:11<8:18:51,  1.43s/it] "
     ]
    },
    {
     "name": "stdout",
     "output_type": "stream",
     "text": [
      "step 29000\n",
      "\t not this again _GO _GO _GO _GO _GO _GO _GO _GO _GO\n",
      "\t =>  _GO no on _EOS _PAD _PAD _PAD _PAD _PAD _PAD _PAD _PAD\n",
      "\tCorrent answer: _GO no you are _UNK _UNK _EOS _PAD _PAD _PAD _PAD _PAD\n",
      "\t you are at the _UNK candy _GO _GO _GO _GO _GO _GO\n",
      "\t =>  _GO i am _UNK _UNK _UNK _EOS _PAD _PAD _PAD _PAD _PAD\n",
      "\tCorrent answer: _GO yes i am _EOS _PAD _PAD _PAD _PAD _PAD _PAD _PAD\n",
      "\t yes sir _GO _GO _GO _GO _GO _GO _GO _GO _GO _GO\n",
      "\t =>  _GO you you _UNK _UNK _UNK _PAD _PAD _PAD _PAD _PAD _PAD\n",
      "\tCorrent answer: _GO i will be right back _EOS _PAD _PAD _PAD _PAD _PAD\n",
      "\t name a price _GO _GO _GO _GO _GO _GO _GO _GO _GO\n",
      "\t =>  _GO dr _UNK _EOS _EOS _PAD _PAD _PAD _PAD _PAD _PAD _PAD\n",
      "\tCorrent answer: _GO ten thousand _UNK for each one _EOS _PAD _PAD _PAD _PAD\n",
      "\tepoch loss: 1.99\n",
      "\n"
     ]
    },
    {
     "name": "stderr",
     "output_type": "stream",
     "text": [
      "\r",
      " 58%|█████▊    | 29001/50000 [11:36:14<10:43:40,  1.84s/it]"
     ]
    },
    {
     "name": "stdout",
     "output_type": "stream",
     "text": [
      "Model saved in file: ./lstm_model.ckpt\n"
     ]
    },
    {
     "name": "stderr",
     "output_type": "stream",
     "text": [
      " 60%|██████    | 30000/50000 [12:00:09<8:02:45,  1.45s/it] "
     ]
    },
    {
     "name": "stdout",
     "output_type": "stream",
     "text": [
      "step 30000\n",
      "\t we just take it _GO _GO _GO _GO _GO _GO _GO _GO\n",
      "\t =>  _GO i is s _EOS _PAD _PAD _PAD _PAD _PAD _PAD _PAD\n",
      "\tCorrent answer: _GO what do you _UNK my dear _EOS _PAD _PAD _PAD _PAD\n",
      "\t was i no not by a _UNK _GO _GO _GO _GO _GO\n",
      "\t =>  _GO that is _UNK _UNK _EOS _PAD _PAD _PAD _PAD _PAD _PAD\n",
      "\tCorrent answer: _GO too bad brings our price down ten thousand _UNK _EOS _PAD\n",
      "\t it is my favorite place _GO _GO _GO _GO _GO _GO _GO\n",
      "\t =>  _GO i i many started _UNK _UNK _UNK _UNK _UNK _EOS _PAD\n",
      "\tCorrent answer: _GO oh see this is great ten o ' clock _EOS _PAD\n",
      "\t you sure _GO _GO _GO _GO _GO _GO _GO _GO _GO _GO\n",
      "\t =>  _GO i am sure _EOS _PAD _PAD _PAD _PAD _PAD _PAD _PAD\n",
      "\tCorrent answer: _GO absolutely positive _EOS _PAD _PAD _PAD _PAD _PAD _PAD _PAD _PAD\n",
      "\tepoch loss: 2.07\n",
      "\n"
     ]
    },
    {
     "name": "stderr",
     "output_type": "stream",
     "text": [
      "\r",
      " 60%|██████    | 30001/50000 [12:00:11<10:07:53,  1.82s/it]"
     ]
    },
    {
     "name": "stdout",
     "output_type": "stream",
     "text": [
      "Model saved in file: ./lstm_model.ckpt\n"
     ]
    },
    {
     "name": "stderr",
     "output_type": "stream",
     "text": [
      " 62%|██████▏   | 31000/50000 [12:24:07<7:31:33,  1.43s/it] "
     ]
    },
    {
     "name": "stdout",
     "output_type": "stream",
     "text": [
      "step 31000\n",
      "\t she is still working _GO _GO _GO _GO _GO _GO _GO _GO\n",
      "\t =>  _GO _UNK would be be she _UNK _UNK _EOS _EOS _PAD _PAD\n",
      "\tCorrent answer: _GO that is right _EOS _PAD _PAD _PAD _PAD _PAD _PAD _PAD\n",
      "\t you mean they _UNK her _GO _GO _GO _GO _GO _GO _GO\n",
      "\t =>  _GO i did her her _EOS _PAD _PAD _PAD _PAD _PAD _PAD\n",
      "\tCorrent answer: _GO yes two men and they had guns _EOS _PAD _PAD _PAD\n",
      "\t you ought to take up crap shooting talk about luck _GO _GO\n",
      "\t =>  _GO i would not son _EOS _EOS _PAD _PAD _PAD _PAD _PAD\n",
      "\tCorrent answer: _GO luck _UNK mean luck _EOS _PAD _PAD _PAD _PAD _PAD _PAD\n",
      "\t the leads come in i will let _GO _GO _GO _GO _GO\n",
      "\t =>  _GO you you you _EOS _EOS _EOS _PAD _PAD _PAD _PAD _PAD\n",
      "\tCorrent answer: _GO that is why i came in i thought i _EOS _PAD\n",
      "\tepoch loss: 1.95\n",
      "\n"
     ]
    },
    {
     "name": "stderr",
     "output_type": "stream",
     "text": [
      "\r",
      " 62%|██████▏   | 31001/50000 [12:24:10<9:28:45,  1.80s/it]"
     ]
    },
    {
     "name": "stdout",
     "output_type": "stream",
     "text": [
      "Model saved in file: ./lstm_model.ckpt\n"
     ]
    },
    {
     "name": "stderr",
     "output_type": "stream",
     "text": [
      " 64%|██████▍   | 32000/50000 [12:48:09<7:08:07,  1.43s/it]"
     ]
    },
    {
     "name": "stdout",
     "output_type": "stream",
     "text": [
      "step 32000\n",
      "\t it is from your mother _GO _GO _GO _GO _GO _GO _GO\n",
      "\t =>  _GO i do you _UNK _EOS _PAD _PAD _PAD _PAD _PAD _PAD\n",
      "\tCorrent answer: _GO my mother sent you a letter that is it say _EOS\n",
      "\t _UNK thinks you like him _GO _GO _GO _GO _GO _GO _GO\n",
      "\t =>  _GO i what what what _EOS _EOS _PAD _PAD _PAD _PAD _PAD\n",
      "\tCorrent answer: _GO well _UNK ' s a _UNK _UNK _EOS _PAD _PAD _PAD\n",
      "\t is it over _GO _GO _GO _GO _GO _GO _GO _GO _GO\n",
      "\t =>  _GO no certainly _EOS _EOS _EOS _PAD _PAD _PAD _PAD _PAD _PAD\n",
      "\tCorrent answer: _GO it is over _EOS _PAD _PAD _PAD _PAD _PAD _PAD _PAD\n",
      "\t god he hardly even _UNK anymore _GO _GO _GO _GO _GO _GO\n",
      "\t =>  _GO i _UNK _UNK _UNK _UNK _UNK _UNK _EOS _PAD _PAD _PAD\n",
      "\tCorrent answer: _GO i know he hates to have to wear _UNK _EOS _PAD\n",
      "\tepoch loss: 2.18\n",
      "\n"
     ]
    },
    {
     "name": "stderr",
     "output_type": "stream",
     "text": [
      "\r",
      " 64%|██████▍   | 32001/50000 [12:48:12<9:27:43,  1.89s/it]"
     ]
    },
    {
     "name": "stdout",
     "output_type": "stream",
     "text": [
      "Model saved in file: ./lstm_model.ckpt\n"
     ]
    },
    {
     "name": "stderr",
     "output_type": "stream",
     "text": [
      " 66%|██████▌   | 33000/50000 [13:12:08<6:42:28,  1.42s/it]"
     ]
    },
    {
     "name": "stdout",
     "output_type": "stream",
     "text": [
      "step 33000\n",
      "\t somebody ' s been here _GO _GO _GO _GO _GO _GO _GO\n",
      "\t =>  _GO i was weird _EOS _EOS _PAD _PAD _PAD _PAD _PAD _PAD\n",
      "\tCorrent answer: _GO where are we now _EOS _PAD _PAD _PAD _PAD _PAD _PAD\n",
      "\t here ' s to an interesting experience _GO _GO _GO _GO _GO\n",
      "\t =>  _GO what will you you to _EOS _EOS _PAD _PAD _PAD _PAD\n",
      "\tCorrent answer: _GO i will drink to that _EOS _PAD _PAD _PAD _PAD _PAD\n",
      "\t what kind _GO _GO _GO _GO _GO _GO _GO _GO _GO _GO\n",
      "\t =>  _GO the _UNK papers _PAD _PAD _PAD _PAD _PAD _PAD _PAD _PAD\n",
      "\tCorrent answer: _GO it does not matter _EOS _PAD _PAD _PAD _PAD _PAD _PAD\n",
      "\t go finish getting ready i will take care of dinner _GO _GO\n",
      "\t =>  _GO i i i i do not _EOS _EOS _PAD _PAD _PAD\n",
      "\tCorrent answer: _GO yeah you sure _EOS _PAD _PAD _PAD _PAD _PAD _PAD _PAD\n",
      "\tepoch loss: 2.06\n",
      "\n"
     ]
    },
    {
     "name": "stderr",
     "output_type": "stream",
     "text": [
      "\r",
      " 66%|██████▌   | 33001/50000 [13:12:10<8:34:47,  1.82s/it]"
     ]
    },
    {
     "name": "stdout",
     "output_type": "stream",
     "text": [
      "Model saved in file: ./lstm_model.ckpt\n"
     ]
    },
    {
     "name": "stderr",
     "output_type": "stream",
     "text": [
      " 68%|██████▊   | 34000/50000 [13:36:15<6:23:25,  1.44s/it] "
     ]
    },
    {
     "name": "stdout",
     "output_type": "stream",
     "text": [
      "step 34000\n",
      "\t what the fuck _GO _GO _GO _GO _GO _GO _GO _GO _GO\n",
      "\t =>  _GO you you not _EOS _EOS _PAD _PAD _PAD _PAD _PAD _PAD\n",
      "\tCorrent answer: _GO i promised him to machine _EOS _PAD _PAD _PAD _PAD _PAD\n",
      "\t i do not _GO _GO _GO _GO _GO _GO _GO _GO _GO\n",
      "\t =>  _GO you you you you harm _PAD _PAD _PAD _PAD _PAD _PAD\n",
      "\tCorrent answer: _GO tell me what you were gonna say go ahead _EOS _PAD\n",
      "\t mama let me help you _GO _GO _GO _GO _GO _GO _GO\n",
      "\t =>  _GO i i not not not i you perfectly _EOS _EOS _PAD\n",
      "\tCorrent answer: _GO _UNK wanted me to do it _EOS _PAD _PAD _PAD _PAD\n",
      "\t do you have the _UNK annie _GO _GO _GO _GO _GO _GO\n",
      "\t =>  _GO i the it _EOS _EOS _PAD _PAD _PAD _PAD _PAD _PAD\n",
      "\tCorrent answer: _GO sure do did you bring back _UNK dad _EOS _PAD _PAD\n",
      "\tepoch loss: 1.94\n",
      "\n"
     ]
    },
    {
     "name": "stderr",
     "output_type": "stream",
     "text": [
      "\r",
      " 68%|██████▊   | 34001/50000 [13:36:18<8:00:50,  1.80s/it]"
     ]
    },
    {
     "name": "stdout",
     "output_type": "stream",
     "text": [
      "Model saved in file: ./lstm_model.ckpt\n"
     ]
    },
    {
     "name": "stderr",
     "output_type": "stream",
     "text": [
      " 70%|███████   | 35000/50000 [13:59:54<5:51:50,  1.41s/it]"
     ]
    },
    {
     "name": "stdout",
     "output_type": "stream",
     "text": [
      "step 35000\n",
      "\t me nah i am more of a people _UNK _GO _GO _GO\n",
      "\t =>  _GO ah come come a _UNK _UNK _UNK _EOS _PAD _PAD _PAD\n",
      "\tCorrent answer: _GO were you watching me _EOS _PAD _PAD _PAD _PAD _PAD _PAD\n",
      "\t am i sure about what _GO _GO _GO _GO _GO _GO _GO\n",
      "\t =>  _GO it is not an _EOS _EOS _PAD _PAD _PAD _PAD _PAD\n",
      "\tCorrent answer: _GO do you really want to buy those cigarettes _EOS _PAD _PAD\n",
      "\t so go get ' em dad _GO _GO _GO _GO _GO _GO\n",
      "\t =>  _GO thanks thanks _UNK _UNK _UNK _EOS _EOS _PAD _PAD _PAD _PAD\n",
      "\tCorrent answer: _GO i am too _UNK the _UNK has already _UNK _EOS _PAD\n",
      "\t and the guy sent you a bill for this _GO _GO _GO\n",
      "\t =>  _GO no is do me me _EOS _EOS _PAD _PAD _PAD _PAD\n",
      "\tCorrent answer: _GO it works you should try it sometime _EOS _PAD _PAD _PAD\n",
      "\tepoch loss: 1.88\n",
      "\n"
     ]
    },
    {
     "name": "stderr",
     "output_type": "stream",
     "text": [
      "\r",
      " 70%|███████   | 35001/50000 [13:59:57<7:28:13,  1.79s/it]"
     ]
    },
    {
     "name": "stdout",
     "output_type": "stream",
     "text": [
      "Model saved in file: ./lstm_model.ckpt\n"
     ]
    },
    {
     "name": "stderr",
     "output_type": "stream",
     "text": [
      " 72%|███████▏  | 36000/50000 [14:23:27<5:27:28,  1.40s/it]"
     ]
    },
    {
     "name": "stdout",
     "output_type": "stream",
     "text": [
      "step 36000\n",
      "\t _UNK _UNK _GO _GO _GO _GO _GO _GO _GO _GO _GO _GO\n",
      "\t =>  _GO _UNK _UNK _EOS _PAD _PAD _PAD _PAD _PAD _PAD _PAD _PAD\n",
      "\tCorrent answer: _GO _UNK _UNK _UNK _UNK _UNK _UNK _UNK _UNK _EOS _PAD _PAD\n",
      "\t things change _UNK _GO _GO _GO _GO _GO _GO _GO _GO _GO\n",
      "\t =>  _GO you you _UNK mere _PAD _PAD _PAD _PAD _PAD _PAD _PAD\n",
      "\tCorrent answer: _GO why is your _UNK so funny let me touch this _EOS\n",
      "\t i will be right back _GO _GO _GO _GO _GO _GO _GO\n",
      "\t =>  _GO where will get _EOS _PAD _PAD _PAD _PAD _PAD _PAD _PAD\n",
      "\tCorrent answer: _GO see you _UNK _EOS _PAD _PAD _PAD _PAD _PAD _PAD _PAD\n",
      "\t i want to talk about the karen _UNK case _GO _GO _GO\n",
      "\t =>  _GO i know believe believe me _EOS _PAD _PAD _PAD _PAD _PAD\n",
      "\tCorrent answer: _GO you heard _EOS _PAD _PAD _PAD _PAD _PAD _PAD _PAD _PAD\n",
      "\tepoch loss: 1.61\n",
      "\n"
     ]
    },
    {
     "name": "stderr",
     "output_type": "stream",
     "text": [
      "\r",
      " 72%|███████▏  | 36001/50000 [14:23:30<6:58:15,  1.79s/it]"
     ]
    },
    {
     "name": "stdout",
     "output_type": "stream",
     "text": [
      "Model saved in file: ./lstm_model.ckpt\n"
     ]
    },
    {
     "name": "stderr",
     "output_type": "stream",
     "text": [
      " 74%|███████▍  | 37000/50000 [14:47:00<5:05:25,  1.41s/it]"
     ]
    },
    {
     "name": "stdout",
     "output_type": "stream",
     "text": [
      "step 37000\n",
      "\t get up _GO _GO _GO _GO _GO _GO _GO _GO _GO _GO\n",
      "\t =>  _GO i _UNK _EOS _PAD _PAD _PAD _PAD _PAD _PAD _PAD _PAD\n",
      "\tCorrent answer: _GO feels so good to lie here _EOS _PAD _PAD _PAD _PAD\n",
      "\t get that _UNK out of the way _GO _GO _GO _GO _GO\n",
      "\t =>  _GO yeah you you you _EOS _PAD _PAD _PAD _PAD _PAD _PAD\n",
      "\tCorrent answer: _GO what happened to _UNK _UNK _EOS _PAD _PAD _PAD _PAD _PAD\n",
      "\t no problem always glad to help and _UNK _GO _GO _GO _GO\n",
      "\t =>  _GO i _UNK _UNK _UNK with _EOS _PAD _PAD _PAD _PAD _PAD\n",
      "\tCorrent answer: _GO hi _UNK _EOS _PAD _PAD _PAD _PAD _PAD _PAD _PAD _PAD\n",
      "\t why do not you say hello _GO _GO _GO _GO _GO _GO\n",
      "\t =>  _GO i am you _EOS _EOS _PAD _PAD _PAD _PAD _PAD _PAD\n",
      "\tCorrent answer: _GO _UNK pick up the phone _EOS _PAD _PAD _PAD _PAD _PAD\n",
      "\tepoch loss: 1.85\n",
      "\n"
     ]
    },
    {
     "name": "stderr",
     "output_type": "stream",
     "text": [
      "\r",
      " 74%|███████▍  | 37001/50000 [14:47:02<6:32:05,  1.81s/it]"
     ]
    },
    {
     "name": "stdout",
     "output_type": "stream",
     "text": [
      "Model saved in file: ./lstm_model.ckpt\n"
     ]
    },
    {
     "name": "stderr",
     "output_type": "stream",
     "text": [
      " 76%|███████▌  | 38000/50000 [15:10:32<4:42:01,  1.41s/it]"
     ]
    },
    {
     "name": "stdout",
     "output_type": "stream",
     "text": [
      "step 38000\n",
      "\t who ' s that _GO _GO _GO _GO _GO _GO _GO _GO\n",
      "\t =>  _GO _UNK _UNK ago _UNK _UNK _UNK _PAD _PAD _PAD _PAD _PAD\n",
      "\tCorrent answer: _GO _UNK _UNK _EOS _PAD _PAD _PAD _PAD _PAD _PAD _PAD _PAD\n",
      "\t can i help you _GO _GO _GO _GO _GO _GO _GO _GO\n",
      "\t =>  _GO sure depends _EOS _UNK _UNK _UNK _PAD _PAD _PAD _PAD _PAD\n",
      "\tCorrent answer: _GO i am looking for _UNK _UNK ' s room _EOS _PAD\n",
      "\t this is not just a mood ring _GO _GO _GO _GO _GO\n",
      "\t =>  _GO well what so _EOS _EOS _PAD _PAD _PAD _PAD _PAD _PAD\n",
      "\tCorrent answer: _GO does it work _EOS _PAD _PAD _PAD _PAD _PAD _PAD _PAD\n",
      "\t big _UNK _UNK right _GO _GO _GO _GO _GO _GO _GO _GO\n",
      "\t =>  _GO _UNK is _UNK _UNK _EOS _EOS _PAD _PAD _PAD _PAD _PAD\n",
      "\tCorrent answer: _GO you got it _EOS _PAD _PAD _PAD _PAD _PAD _PAD _PAD\n",
      "\tepoch loss: 1.68\n",
      "\n"
     ]
    },
    {
     "name": "stderr",
     "output_type": "stream",
     "text": [
      "\r",
      " 76%|███████▌  | 38001/50000 [15:10:35<5:59:19,  1.80s/it]"
     ]
    },
    {
     "name": "stdout",
     "output_type": "stream",
     "text": [
      "Model saved in file: ./lstm_model.ckpt\n"
     ]
    },
    {
     "name": "stderr",
     "output_type": "stream",
     "text": [
      " 78%|███████▊  | 39000/50000 [15:34:05<4:20:06,  1.42s/it]"
     ]
    },
    {
     "name": "stdout",
     "output_type": "stream",
     "text": [
      "step 39000\n",
      "\t i kinda _UNK things up _GO _GO _GO _GO _GO _GO _GO\n",
      "\t =>  _GO oh you you _UNK _EOS _EOS _PAD _PAD _PAD _PAD _PAD\n",
      "\tCorrent answer: _GO i am sure you are _UNK _EOS _PAD _PAD _PAD _PAD\n",
      "\t not yet _GO _GO _GO _GO _GO _GO _GO _GO _GO _GO\n",
      "\t =>  _GO oh is god _UNK _UNK _UNK _PAD _PAD _PAD _PAD _PAD\n",
      "\tCorrent answer: _GO do not _EOS _PAD _PAD _PAD _PAD _PAD _PAD _PAD _PAD\n",
      "\t me too tom _GO _GO _GO _GO _GO _GO _GO _GO _GO\n",
      "\t =>  _GO i is you _UNK _UNK _EOS _PAD _PAD _PAD _PAD _PAD\n",
      "\tCorrent answer: _GO yeah give me a minute _EOS _PAD _PAD _PAD _PAD _PAD\n",
      "\t why do you say that is there something wrong _GO _GO _GO\n",
      "\t =>  _GO i i not know is _PAD _PAD _PAD _PAD _PAD _PAD\n",
      "\tCorrent answer: _GO i do not know _EOS _PAD _PAD _PAD _PAD _PAD _PAD\n",
      "\tepoch loss: 1.85\n",
      "\n"
     ]
    },
    {
     "name": "stderr",
     "output_type": "stream",
     "text": [
      "\r",
      " 78%|███████▊  | 39001/50000 [15:34:08<5:28:29,  1.79s/it]"
     ]
    },
    {
     "name": "stdout",
     "output_type": "stream",
     "text": [
      "Model saved in file: ./lstm_model.ckpt\n"
     ]
    },
    {
     "name": "stderr",
     "output_type": "stream",
     "text": [
      " 80%|████████  | 40000/50000 [15:57:39<3:53:46,  1.40s/it]"
     ]
    },
    {
     "name": "stdout",
     "output_type": "stream",
     "text": [
      "step 40000\n",
      "\t i _UNK to do _UNK ' _UNK _GO _GO _GO _GO _GO\n",
      "\t =>  _GO _UNK _UNK _EOS _PAD _PAD _PAD _PAD _PAD _PAD _PAD _PAD\n",
      "\tCorrent answer: _GO make it go ' way _EOS _PAD _PAD _PAD _PAD _PAD\n",
      "\t why not _GO _GO _GO _GO _GO _GO _GO _GO _GO _GO\n",
      "\t =>  _GO because you you _UNK _EOS _EOS _PAD _PAD _PAD _PAD _PAD\n",
      "\tCorrent answer: _GO it is _UNK _EOS _PAD _PAD _PAD _PAD _PAD _PAD _PAD\n",
      "\t we return to _UNK across the bridge at the _UNK _GO _GO\n",
      "\t =>  _GO you are are sorry _EOS _PAD _PAD _PAD _PAD _PAD _PAD\n",
      "\tCorrent answer: _GO but the bridge has been pulled down _EOS _PAD _PAD _PAD\n",
      "\t i do not know where it is _GO _GO _GO _GO _GO\n",
      "\t =>  _GO turn must must you it is street _EOS _EOS _PAD _PAD\n",
      "\tCorrent answer: _GO on the side _EOS _PAD _PAD _PAD _PAD _PAD _PAD _PAD\n",
      "\tepoch loss: 1.70\n",
      "\n"
     ]
    },
    {
     "name": "stderr",
     "output_type": "stream",
     "text": [
      "\r",
      " 80%|████████  | 40001/50000 [15:57:42<5:01:42,  1.81s/it]"
     ]
    },
    {
     "name": "stdout",
     "output_type": "stream",
     "text": [
      "Model saved in file: ./lstm_model.ckpt\n"
     ]
    },
    {
     "name": "stderr",
     "output_type": "stream",
     "text": [
      " 82%|████████▏ | 41000/50000 [16:21:12<3:31:31,  1.41s/it]"
     ]
    },
    {
     "name": "stdout",
     "output_type": "stream",
     "text": [
      "step 41000\n",
      "\t _UNK listen _GO _GO _GO _GO _GO _GO _GO _GO _GO _GO\n",
      "\t =>  _GO no is _UNK _EOS _EOS _PAD _PAD _PAD _PAD _PAD _PAD\n",
      "\tCorrent answer: _GO shut up _EOS _PAD _PAD _PAD _PAD _PAD _PAD _PAD _PAD\n",
      "\t where is my father _GO _GO _GO _GO _GO _GO _GO _GO\n",
      "\t =>  _GO he have the the the the the the them _EOS _EOS\n",
      "\tCorrent answer: _GO where is the _UNK and the army soldier _EOS _PAD _PAD\n",
      "\t i speak as i find _UNK _GO _GO _GO _GO _GO _GO\n",
      "\t =>  _GO three way _UNK _UNK _PAD _PAD _PAD _PAD _PAD _PAD _PAD\n",
      "\tCorrent answer: _GO not down south you do not _EOS _PAD _PAD _PAD _PAD\n",
      "\t what is _UNK _UNK my master _GO _GO _GO _GO _GO _GO\n",
      "\t =>  _GO i _UNK he not to to _UNK _EOS _EOS _PAD _PAD\n",
      "\tCorrent answer: _GO there is a _UNK _UNK in the force _EOS _PAD _PAD\n",
      "\tepoch loss: 1.80\n",
      "\n"
     ]
    },
    {
     "name": "stderr",
     "output_type": "stream",
     "text": [
      "\r",
      " 82%|████████▏ | 41001/50000 [16:21:15<4:37:04,  1.85s/it]"
     ]
    },
    {
     "name": "stdout",
     "output_type": "stream",
     "text": [
      "Model saved in file: ./lstm_model.ckpt\n"
     ]
    },
    {
     "name": "stderr",
     "output_type": "stream",
     "text": [
      " 84%|████████▍ | 42000/50000 [16:45:39<3:12:44,  1.45s/it]"
     ]
    },
    {
     "name": "stdout",
     "output_type": "stream",
     "text": [
      "step 42000\n",
      "\t i just want to ask some questions _GO _GO _GO _GO _GO\n",
      "\t =>  _GO i d i want _UNK _EOS _EOS _PAD _PAD _PAD _PAD\n",
      "\tCorrent answer: _GO you may do that in the _UNK of your room _EOS\n",
      "\t _UNK _UNK look out _GO _GO _GO _GO _GO _GO _GO _GO\n",
      "\t =>  _GO i ' you _UNK _EOS _EOS _PAD _PAD _PAD _PAD _PAD\n",
      "\tCorrent answer: _GO oh my hello father _UNK _UNK _UNK _EOS _PAD _PAD _PAD\n",
      "\t mister _UNK _GO _GO _GO _GO _GO _GO _GO _GO _GO _GO\n",
      "\t =>  _GO no ma ' _EOS _EOS _PAD _PAD _PAD _PAD _PAD _PAD\n",
      "\tCorrent answer: _GO a strange woman is a _UNK _UNK _EOS _PAD _PAD _PAD\n",
      "\t what are you talking about _GO _GO _GO _GO _GO _GO _GO\n",
      "\t =>  _GO i is talking _UNK _EOS _PAD _PAD _PAD _PAD _PAD _PAD\n",
      "\tCorrent answer: _GO c ' mon i will show you _EOS _PAD _PAD _PAD\n",
      "\tepoch loss: 1.94\n",
      "\n"
     ]
    },
    {
     "name": "stderr",
     "output_type": "stream",
     "text": [
      "\r",
      " 84%|████████▍ | 42001/50000 [16:45:42<4:22:17,  1.97s/it]"
     ]
    },
    {
     "name": "stdout",
     "output_type": "stream",
     "text": [
      "Model saved in file: ./lstm_model.ckpt\n"
     ]
    },
    {
     "name": "stderr",
     "output_type": "stream",
     "text": [
      " 86%|████████▌ | 43000/50000 [17:10:18<2:55:18,  1.50s/it]"
     ]
    },
    {
     "name": "stdout",
     "output_type": "stream",
     "text": [
      "step 43000\n",
      "\t that is _UNK _UNK speak english speak english _GO _GO _GO _GO\n",
      "\t =>  _GO yeah take take go _PAD _PAD _PAD _PAD _PAD _PAD _PAD\n",
      "\tCorrent answer: _GO red _UNK table that is with you man _EOS _PAD _PAD\n",
      "\t i never played a _UNK thief _GO _GO _GO _GO _GO _GO\n",
      "\t =>  _GO you did you you you _UNK _EOS _PAD _PAD _PAD _PAD\n",
      "\tCorrent answer: _GO who am i thinking of _EOS _PAD _PAD _PAD _PAD _PAD\n",
      "\t he is chasing us i do not believe it _GO _GO _GO\n",
      "\t =>  _GO he will you _UNK _UNK _UNK _UNK _UNK _EOS _EOS _PAD\n",
      "\tCorrent answer: _GO full _UNK to port _EOS _PAD _PAD _PAD _PAD _PAD _PAD\n",
      "\t _UNK he is so cute that is his name _GO _GO _GO\n",
      "\t =>  _GO cut will it _EOS _EOS _PAD _PAD _PAD _PAD _PAD _PAD\n",
      "\tCorrent answer: _GO _UNK _UNK _EOS _PAD _PAD _PAD _PAD _PAD _PAD _PAD _PAD\n",
      "\tepoch loss: 1.61\n",
      "\n"
     ]
    },
    {
     "name": "stderr",
     "output_type": "stream",
     "text": [
      "\r",
      " 86%|████████▌ | 43001/50000 [17:10:21<3:41:27,  1.90s/it]"
     ]
    },
    {
     "name": "stdout",
     "output_type": "stream",
     "text": [
      "Model saved in file: ./lstm_model.ckpt\n"
     ]
    },
    {
     "name": "stderr",
     "output_type": "stream",
     "text": [
      " 88%|████████▊ | 44000/50000 [17:34:37<2:26:02,  1.46s/it]"
     ]
    },
    {
     "name": "stdout",
     "output_type": "stream",
     "text": [
      "step 44000\n",
      "\t your court order dr _UNK _GO _GO _GO _GO _GO _GO _GO\n",
      "\t =>  _GO oh _UNK _EOS _PAD _PAD _PAD _PAD _PAD _PAD _PAD _PAD\n",
      "\tCorrent answer: _GO you know i am not comfortable with this _EOS _PAD _PAD\n",
      "\t were those flowers really for me brad _GO _GO _GO _GO _GO\n",
      "\t =>  _GO no they they right _UNK _UNK _EOS _PAD _PAD _PAD _PAD\n",
      "\tCorrent answer: _GO of course _EOS _PAD _PAD _PAD _PAD _PAD _PAD _PAD _PAD\n",
      "\t uncle _UNK _GO _GO _GO _GO _GO _GO _GO _GO _GO _GO\n",
      "\t =>  _GO _UNK _UNK _EOS _PAD _PAD _PAD _PAD _PAD _PAD _PAD _PAD\n",
      "\tCorrent answer: _GO andy andy is that you _EOS _PAD _PAD _PAD _PAD _PAD\n",
      "\t we were _UNK _UNK _GO _GO _GO _GO _GO _GO _GO _GO\n",
      "\t =>  _GO fort were were _EOS _PAD _PAD _PAD _PAD _PAD _PAD _PAD\n",
      "\tCorrent answer: _GO how wonderful for you _EOS _PAD _PAD _PAD _PAD _PAD _PAD\n",
      "\tepoch loss: 1.73\n",
      "\n"
     ]
    },
    {
     "name": "stderr",
     "output_type": "stream",
     "text": [
      "\r",
      " 88%|████████▊ | 44001/50000 [17:34:40<3:10:23,  1.90s/it]"
     ]
    },
    {
     "name": "stdout",
     "output_type": "stream",
     "text": [
      "Model saved in file: ./lstm_model.ckpt\n"
     ]
    },
    {
     "name": "stderr",
     "output_type": "stream",
     "text": [
      " 90%|█████████ | 45000/50000 [18:06:45<2:22:05,  1.71s/it] "
     ]
    },
    {
     "name": "stdout",
     "output_type": "stream",
     "text": [
      "step 45000\n",
      "\t _UNK license _UNK _GO _GO _GO _GO _GO _GO _GO _GO _GO\n",
      "\t =>  _GO _UNK _UNK _EOS _PAD _PAD _PAD _PAD _PAD _PAD _PAD _PAD\n",
      "\tCorrent answer: _GO he ate a car _EOS _PAD _PAD _PAD _PAD _PAD _PAD\n",
      "\t when did this happen _GO _GO _GO _GO _GO _GO _GO _GO\n",
      "\t =>  _GO just time time _EOS _PAD _PAD _PAD _PAD _PAD _PAD _PAD\n",
      "\tCorrent answer: _GO ten minutes ago _EOS _PAD _PAD _PAD _PAD _PAD _PAD _PAD\n",
      "\t you cannot kill me i died years ago _GO _GO _GO _GO\n",
      "\t =>  _GO i not worry kill kill kill other other _PAD _PAD _PAD\n",
      "\tCorrent answer: _GO no now i cannot kill you _EOS _PAD _PAD _PAD _PAD\n",
      "\t oh yeah i am really gonna eat _UNK _GO _GO _GO _GO\n",
      "\t =>  _GO oh meet meet _EOS _PAD _PAD _PAD _PAD _PAD _PAD _PAD\n",
      "\tCorrent answer: _GO what would you do _UNK this _EOS _PAD _PAD _PAD _PAD\n",
      "\tepoch loss: 1.56\n",
      "\n"
     ]
    },
    {
     "name": "stderr",
     "output_type": "stream",
     "text": [
      "\r",
      " 90%|█████████ | 45001/50000 [18:07:10<12:01:23,  8.66s/it]"
     ]
    },
    {
     "name": "stdout",
     "output_type": "stream",
     "text": [
      "Model saved in file: ./lstm_model.ckpt\n"
     ]
    },
    {
     "name": "stderr",
     "output_type": "stream",
     "text": [
      " 92%|█████████▏| 46000/50000 [19:09:02<4:04:08,  3.66s/it] "
     ]
    },
    {
     "name": "stdout",
     "output_type": "stream",
     "text": [
      "step 46000\n",
      "\t very nice to meet you _GO _GO _GO _GO _GO _GO _GO\n",
      "\t =>  _GO how killer are you _EOS _PAD _PAD _PAD _PAD _PAD _PAD\n",
      "\tCorrent answer: _GO nice to meet you mr _UNK _EOS _PAD _PAD _PAD _PAD\n",
      "\t you came through nicky _GO _GO _GO _GO _GO _GO _GO _GO\n",
      "\t =>  _GO of _UNK _UNK _UNK _EOS _PAD _PAD _PAD _PAD _PAD _PAD\n",
      "\tCorrent answer: _GO i came through for you mom and the _UNK dad _EOS\n",
      "\t okay how _GO _GO _GO _GO _GO _GO _GO _GO _GO _GO\n",
      "\t =>  _GO it is birthday minutes _EOS _PAD _PAD _PAD _PAD _PAD _PAD\n",
      "\tCorrent answer: _GO it is an _UNK proof _EOS _PAD _PAD _PAD _PAD _PAD\n",
      "\t with _UNK right _GO _GO _GO _GO _GO _GO _GO _GO _GO\n",
      "\t =>  _GO i will not to _EOS _PAD _PAD _PAD _PAD _PAD _PAD\n",
      "\tCorrent answer: _GO when i was twenty _EOS _PAD _PAD _PAD _PAD _PAD _PAD\n",
      "\tepoch loss: 1.35\n",
      "\n"
     ]
    },
    {
     "name": "stderr",
     "output_type": "stream",
     "text": [
      "\r",
      " 92%|█████████▏| 46001/50000 [19:09:13<6:20:25,  5.71s/it]"
     ]
    },
    {
     "name": "stdout",
     "output_type": "stream",
     "text": [
      "Model saved in file: ./lstm_model.ckpt\n"
     ]
    },
    {
     "name": "stderr",
     "output_type": "stream",
     "text": [
      " 94%|█████████▍| 47000/50000 [20:10:30<1:17:22,  1.55s/it]"
     ]
    },
    {
     "name": "stdout",
     "output_type": "stream",
     "text": [
      "step 47000\n",
      "\t nobody says you have to be like me _GO _GO _GO _GO\n",
      "\t =>  _GO i do not know your your you _EOS _EOS _PAD _PAD\n",
      "\tCorrent answer: _GO he does _EOS _PAD _PAD _PAD _PAD _PAD _PAD _PAD _PAD\n",
      "\t _UNK personal i believe you might enjoy one another _GO _GO _GO\n",
      "\t =>  _GO thank i _EOS _PAD _PAD _PAD _PAD _PAD _PAD _PAD _PAD\n",
      "\tCorrent answer: _GO but _UNK _EOS _PAD _PAD _PAD _PAD _PAD _PAD _PAD _PAD\n",
      "\t that is not funny _GO _GO _GO _GO _GO _GO _GO _GO\n",
      "\t =>  _GO it is not my had _EOS _EOS _PAD _PAD _PAD _PAD\n",
      "\tCorrent answer: _GO that was great _EOS _PAD _PAD _PAD _PAD _PAD _PAD _PAD\n",
      "\t _UNK oil a _UNK _UNK she loves him _GO _GO _GO _GO\n",
      "\t =>  _GO what has her _EOS _PAD _PAD _PAD _PAD _PAD _PAD _PAD\n",
      "\tCorrent answer: _GO he is the wrong man _EOS _PAD _PAD _PAD _PAD _PAD\n",
      "\tepoch loss: 1.71\n",
      "\n"
     ]
    },
    {
     "name": "stderr",
     "output_type": "stream",
     "text": [
      "\r",
      " 94%|█████████▍| 47001/50000 [20:10:39<3:19:19,  3.99s/it]"
     ]
    },
    {
     "name": "stdout",
     "output_type": "stream",
     "text": [
      "Model saved in file: ./lstm_model.ckpt\n"
     ]
    },
    {
     "name": "stderr",
     "output_type": "stream",
     "text": [
      " 96%|█████████▌| 48000/50000 [21:07:44<2:04:18,  3.73s/it]"
     ]
    },
    {
     "name": "stdout",
     "output_type": "stream",
     "text": [
      "step 48000\n",
      "\t somebody will see _GO _GO _GO _GO _GO _GO _GO _GO _GO\n",
      "\t =>  _GO i certain _EOS _EOS _PAD _PAD _PAD _PAD _PAD _PAD _PAD\n",
      "\tCorrent answer: _GO no they will not _EOS _PAD _PAD _PAD _PAD _PAD _PAD\n",
      "\t what the hell good is _UNK to ya _GO _GO _GO _GO\n",
      "\t =>  _GO he it it _EOS _EOS _PAD _PAD _PAD _PAD _PAD _PAD\n",
      "\tCorrent answer: _GO he is gonna set up _UNK for us _EOS _PAD _PAD\n",
      "\t taken care of _GO _GO _GO _GO _GO _GO _GO _GO _GO\n",
      "\t =>  _GO i _UNK _EOS _PAD _PAD _PAD _PAD _PAD _PAD _PAD _PAD\n",
      "\tCorrent answer: _GO yeah he is getting there on his own _EOS _PAD _PAD\n",
      "\t that _UNK got a long arm _GO _GO _GO _GO _GO _GO\n",
      "\t =>  _GO i do for a with with never he out _EOS _PAD\n",
      "\tCorrent answer: _GO what do you want for dinner _EOS _PAD _PAD _PAD _PAD\n",
      "\tepoch loss: 1.48\n",
      "\n"
     ]
    },
    {
     "name": "stderr",
     "output_type": "stream",
     "text": [
      "\r",
      " 96%|█████████▌| 48001/50000 [21:07:56<3:28:41,  6.26s/it]"
     ]
    },
    {
     "name": "stdout",
     "output_type": "stream",
     "text": [
      "Model saved in file: ./lstm_model.ckpt\n"
     ]
    },
    {
     "name": "stderr",
     "output_type": "stream",
     "text": [
      " 98%|█████████▊| 49000/50000 [22:09:55<1:00:36,  3.64s/it]"
     ]
    },
    {
     "name": "stdout",
     "output_type": "stream",
     "text": [
      "step 49000\n",
      "\t i am not finished yet _GO _GO _GO _GO _GO _GO _GO\n",
      "\t =>  _GO not with are _EOS _EOS _PAD _PAD _PAD _PAD _PAD _PAD\n",
      "\tCorrent answer: _GO go on _EOS _PAD _PAD _PAD _PAD _PAD _PAD _PAD _PAD\n",
      "\t where did you come from _GO _GO _GO _GO _GO _GO _GO\n",
      "\t =>  _GO i am _UNK _UNK _UNK _UNK _UNK _UNK _UNK _EOS _PAD\n",
      "\tCorrent answer: _GO do you believe in time _UNK _UNK _EOS _PAD _PAD _PAD\n",
      "\t great _UNK _GO _GO _GO _GO _GO _GO _GO _GO _GO _GO\n",
      "\t =>  _GO yeah _UNK _EOS _PAD _PAD _PAD _PAD _PAD _PAD _PAD _PAD\n",
      "\tCorrent answer: _GO how is the store _EOS _PAD _PAD _PAD _PAD _PAD _PAD\n",
      "\t i am a _UNK just like you man _GO _GO _GO _GO\n",
      "\t =>  _GO i i have been to to _UNK _EOS _PAD _PAD _PAD\n",
      "\tCorrent answer: _GO what do you mean _EOS _PAD _PAD _PAD _PAD _PAD _PAD\n",
      "\tepoch loss: 1.57\n",
      "\n"
     ]
    },
    {
     "name": "stderr",
     "output_type": "stream",
     "text": [
      "\r",
      " 98%|█████████▊| 49001/50000 [22:10:05<1:28:39,  5.32s/it]"
     ]
    },
    {
     "name": "stdout",
     "output_type": "stream",
     "text": [
      "Model saved in file: ./lstm_model.ckpt\n"
     ]
    },
    {
     "name": "stderr",
     "output_type": "stream",
     "text": [
      "100%|██████████| 50000/50000 [23:11:47<00:00,  3.59s/it]  \n"
     ]
    }
   ],
   "source": [
    "import tensorflow as tf\n",
    "max_steps=50000\n",
    "model_save_path = './lstm_model.ckpt'\n",
    "\n",
    "init = tf.global_variables_initializer()\n",
    "saver = tf.train.Saver()\n",
    "\n",
    "\n",
    "\n",
    "with tf.Session() as sess:\n",
    "\n",
    "#     saver.restore(sess, model_save_path)\n",
    "    sess.run(init)\n",
    "    \n",
    "    for step in tqdm(range(max_steps)):\n",
    "        batch_encoder_inputs, batch_decoder_inputs= get_batch(Q_train, A_train, batch_size)\n",
    "        \n",
    "        \n",
    "        batch_preds, batch_loss, _ = sess.run(\n",
    "                [predictions, loss, training_op],\n",
    "                feed_dict={\n",
    "                    enc_inputs: batch_encoder_inputs,\n",
    "                    dec_inputs: batch_decoder_inputs\n",
    "                })\n",
    " \n",
    "        \n",
    "        if step % 1000 == 0:\n",
    "            print('step', step) \n",
    "            batch_encoder_inputs, batch_decoder_inputs= get_batch(Q_test, A_test, 4)\n",
    "             \n",
    "            preds = sess.run(predictions, feed_dict={\n",
    "                    enc_inputs: batch_encoder_inputs,\n",
    "                    dec_inputs: batch_decoder_inputs\n",
    "                })\n",
    "            \n",
    "            \n",
    "           \n",
    "            for input_sent, target_sent, pred in zip( batch_encoder_inputs, batch_decoder_inputs, preds):\n",
    "                print('\\t', idx2sent(input_sent, reverse_vocab = encode_vocab))\n",
    "                print('\\t => ', idx2sent(pred, reverse_vocab=decode_vocab))\n",
    "                print('\\tCorrent answer:', idx2sent(target_sent, reverse_vocab = decode_vocab))\n",
    "            print('\\tepoch loss: {:.2f}\\n'.format(batch_loss))\n",
    "            \n",
    "            save_path = saver.save(sess, save_path= model_save_path)\n",
    "            print(\"Model saved in file: %s\" % save_path) \n",
    "            \n",
    "             learning_rate = learning_rate * learning_rate_decay_factor\n",
    "            if learning_rate < min_learning_rate:\n",
    "                learning_rate = min_learning_rate\n",
    "\n"
   ]
  },
  {
   "cell_type": "markdown",
   "metadata": {},
   "source": [
    "# Improvement\n",
    "\n",
    "* more epochs/steps\n",
    "* bigger vocabulary (2000-->20000)\n",
    "* word2vec embedding\n",
    "* bucket model"
   ]
  }
 ],
 "metadata": {
  "kernelspec": {
   "display_name": "Python 3",
   "language": "python",
   "name": "python3"
  },
  "language_info": {
   "codemirror_mode": {
    "name": "ipython",
    "version": 3
   },
   "file_extension": ".py",
   "mimetype": "text/x-python",
   "name": "python",
   "nbconvert_exporter": "python",
   "pygments_lexer": "ipython3",
   "version": "3.5.3"
  }
 },
 "nbformat": 4,
 "nbformat_minor": 2
}
