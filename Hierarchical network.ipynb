{
 "cells": [
  {
   "cell_type": "markdown",
   "metadata": {},
   "source": [
    "# DataSet IMDB movie review\n",
    "\n",
    "downloaded from https://www.kaggle.com/c/word2vec-nlp-tutorial/data"
   ]
  },
  {
   "cell_type": "code",
   "execution_count": 1,
   "metadata": {
    "collapsed": true
   },
   "outputs": [],
   "source": [
    "import pandas as pd\n",
    "import numpy as np\n",
    "import re"
   ]
  },
  {
   "cell_type": "code",
   "execution_count": 2,
   "metadata": {},
   "outputs": [
    {
     "data": {
      "text/html": [
       "<div>\n",
       "<style scoped>\n",
       "    .dataframe tbody tr th:only-of-type {\n",
       "        vertical-align: middle;\n",
       "    }\n",
       "\n",
       "    .dataframe tbody tr th {\n",
       "        vertical-align: top;\n",
       "    }\n",
       "\n",
       "    .dataframe thead th {\n",
       "        text-align: right;\n",
       "    }\n",
       "</style>\n",
       "<table border=\"1\" class=\"dataframe\">\n",
       "  <thead>\n",
       "    <tr style=\"text-align: right;\">\n",
       "      <th></th>\n",
       "      <th>id</th>\n",
       "      <th>sentiment</th>\n",
       "      <th>review</th>\n",
       "    </tr>\n",
       "  </thead>\n",
       "  <tbody>\n",
       "    <tr>\n",
       "      <th>0</th>\n",
       "      <td>5814_8</td>\n",
       "      <td>1</td>\n",
       "      <td>With all this stuff going down at the moment w...</td>\n",
       "    </tr>\n",
       "    <tr>\n",
       "      <th>1</th>\n",
       "      <td>2381_9</td>\n",
       "      <td>1</td>\n",
       "      <td>\\The Classic War of the Worlds\\\" by Timothy Hi...</td>\n",
       "    </tr>\n",
       "    <tr>\n",
       "      <th>2</th>\n",
       "      <td>7759_3</td>\n",
       "      <td>0</td>\n",
       "      <td>The film starts with a manager (Nicholas Bell)...</td>\n",
       "    </tr>\n",
       "    <tr>\n",
       "      <th>3</th>\n",
       "      <td>3630_4</td>\n",
       "      <td>0</td>\n",
       "      <td>It must be assumed that those who praised this...</td>\n",
       "    </tr>\n",
       "    <tr>\n",
       "      <th>4</th>\n",
       "      <td>9495_8</td>\n",
       "      <td>1</td>\n",
       "      <td>Superbly trashy and wondrously unpretentious 8...</td>\n",
       "    </tr>\n",
       "  </tbody>\n",
       "</table>\n",
       "</div>"
      ],
      "text/plain": [
       "       id  sentiment                                             review\n",
       "0  5814_8          1  With all this stuff going down at the moment w...\n",
       "1  2381_9          1  \\The Classic War of the Worlds\\\" by Timothy Hi...\n",
       "2  7759_3          0  The film starts with a manager (Nicholas Bell)...\n",
       "3  3630_4          0  It must be assumed that those who praised this...\n",
       "4  9495_8          1  Superbly trashy and wondrously unpretentious 8..."
      ]
     },
     "execution_count": 2,
     "metadata": {},
     "output_type": "execute_result"
    }
   ],
   "source": [
    "datapath = '/data/imdb/labeledTrainData.tsv'\n",
    "\n",
    "data = pd.read_csv(datapath, sep='\\t')\n",
    "data.head()"
   ]
  },
  {
   "cell_type": "code",
   "execution_count": 3,
   "metadata": {},
   "outputs": [
    {
     "data": {
      "text/plain": [
       "\"With all this stuff going down at the moment with MJ i've started listening to his music, watching the odd documentary here and there, watched The Wiz and watched Moonwalker again. Maybe i just want to get a certain insight into this guy who i thought was really cool in the eighties just to maybe make up my mind whether he is guilty or innocent. Moonwalker is part biography, part feature film which i remember going to see at the cinema when it was originally released. Some of it has subtle messages about MJ's feeling towards the press and also the obvious message of drugs are bad m'kay.<br /><br />Visually impressive but of course this is all about Michael Jackson so unless you remotely like MJ in anyway then you are going to hate this and find it boring. Some may call MJ an egotist for consenting to the making of this movie BUT MJ and most of his fans would say that he made it for the fans which if true is really nice of him.<br /><br />The actual feature film bit when it finally starts is only on for 20 minutes or so excluding the Smooth Criminal sequence and Joe Pesci is convincing as a psychopathic all powerful drug lord. Why he wants MJ dead so bad is beyond me. Because MJ overheard his plans? Nah, Joe Pesci's character ranted that he wanted people to know it is he who is supplying drugs etc so i dunno, maybe he just hates MJ's music.<br /><br />Lots of cool things in this like MJ turning into a car and a robot and the whole Speed Demon sequence. Also, the director must have had the patience of a saint when it came to filming the kiddy Bad sequence as usually directors hate working with one kid let alone a whole bunch of them performing a complex dance scene.<br /><br />Bottom line, this movie is for people who like MJ on one level or another (which i think is most people). If not, then stay away. It does try and give off a wholesome message and ironically MJ's bestest buddy in this movie is a girl! Michael Jackson is truly one of the most talented people ever to grace this planet but is he guilty? Well, with all the attention i've gave this subject....hmmm well i don't know because people can be different behind closed doors, i know this for a fact. He is either an extremely nice but stupid guy or one of the most sickest liars. I hope he is not the latter.\""
      ]
     },
     "execution_count": 3,
     "metadata": {},
     "output_type": "execute_result"
    }
   ],
   "source": [
    "# sample of review, need to remove the html tags and do some string cleaning\n",
    "\n",
    "sample = data.review[0]\n",
    "sample"
   ]
  },
  {
   "cell_type": "code",
   "execution_count": 4,
   "metadata": {},
   "outputs": [
    {
     "data": {
      "text/plain": [
       "\"with all this stuff going down at the moment with mj i have started listening to his music, watching the odd documentary here and there, watched the wiz and watched moonwalker again. maybe i just want to get a certain insight into this guy who i thought was really cool in the eighties just to maybe make up my mind whether he is guilty or innocent. moonwalker is part biography, part feature film which i remember going to see at the cinema when it was originally released. some of it has subtle messages about mj 's feeling towards the press and also the obvious message of drugs are bad m'kay.  visually impressive but of course this is all about michael jackson so unless you remotely like mj in anyway then you are going to hate this and find it boring. some may call mj an egotist for consenting to the making of this movie but mj and most of his fans would say that he made it for the fans which if true is really nice of him.  the actual feature film bit when it finally starts is only on for 20 minutes or so excluding the smooth criminal sequence and joe pesci is convincing as a psychopathic all powerful drug lord. why he wants mj dead so bad is beyond me. because mj overheard his plans? nah, joe pesci 's character ranted that he wanted people to know it is he who is supplying drugs etc so i dunno, maybe he just hates mj 's music.  lots of cool things in this like mj turning into a car and a robot and the whole speed demon sequence. also, the director must have had the patience of a saint when it came to filming the kiddy bad sequence as usually directors hate working with one kid let alone a whole bunch of them performing a complex dance scene.  bottom line, this movie is for people who like mj on one level or another (which i think is most people). if not, then stay away. it does try and give off a wholesome message and ironically mj 's bestest buddy in this movie is a girl! michael jackson is truly one of the most talented people ever to grace this planet but is he guilty? well, with all the attention i have gave this subject....hmmm well i do not know because people can be different behind closed doors, i know this for a fact. he is either an extremely nice but stupid guy or one of the most sickest liars. i hope he is not the latter.\""
      ]
     },
     "execution_count": 4,
     "metadata": {},
     "output_type": "execute_result"
    }
   ],
   "source": [
    "def clean_str(text):\n",
    "    text = text.lower()\n",
    "    text = re.sub(r\"<br\\s\\/>\", ' ', text) #remove <br /> tags\n",
    "\n",
    "    text = re.sub(r\"\\\\\", '', text)\n",
    "    text = re.sub(r\"i'm\", \"i am\", text)\n",
    "    text = re.sub(r\"he's\", \"he is\", text)\n",
    "    text = re.sub(r\"she's\", \"she is\", text)\n",
    "    text = re.sub(r\"it's\", \"it is\", text)\n",
    "    text = re.sub(r\"that's\", \"that is\", text)\n",
    "    text = re.sub(r\"what's\", \"that is\", text)\n",
    "    text = re.sub(r\"where's\", \"where is\", text)\n",
    "    text = re.sub(r\"how's\", \"how is\", text)\n",
    "    text = re.sub(r\"\\'ll\", \" will\", text)\n",
    "    text = re.sub(r\"\\'ve\", \" have\", text)\n",
    "    text = re.sub(r\"\\'re\", \" are\", text)\n",
    "    text = re.sub(r\"\\'d\", \" would\", text)\n",
    "    text = re.sub(r\"\\'re\", \" are\", text)\n",
    "    text = re.sub(r\"won't\", \"will not\", text)\n",
    "    text = re.sub(r\"can't\", \"cannot\", text)\n",
    "    text = re.sub(r\"n't\", \" not\", text)\n",
    "    text = re.sub(r'n\\'t', ' not', text)\n",
    "    text = re.sub(r\"\\'s\", \" \\'s\", text)\n",
    "\n",
    "    return text \n",
    "    \n",
    "sample = clean_str(sample)  \n",
    "sample"
   ]
  },
  {
   "cell_type": "code",
   "execution_count": 5,
   "metadata": {},
   "outputs": [
    {
     "data": {
      "text/plain": [
       "['with all this stuff going down at the moment with mj i have started listening to his music, watching the odd documentary here and there, watched the wiz and watched moonwalker again.',\n",
       " 'maybe i just want to get a certain insight into this guy who i thought was really cool in the eighties just to maybe make up my mind whether he is guilty or innocent.',\n",
       " 'moonwalker is part biography, part feature film which i remember going to see at the cinema when it was originally released.',\n",
       " \"some of it has subtle messages about mj 's feeling towards the press and also the obvious message of drugs are bad m'kay.\",\n",
       " 'visually impressive but of course this is all about michael jackson so unless you remotely like mj in anyway then you are going to hate this and find it boring.',\n",
       " 'some may call mj an egotist for consenting to the making of this movie but mj and most of his fans would say that he made it for the fans which if true is really nice of him.',\n",
       " 'the actual feature film bit when it finally starts is only on for 20 minutes or so excluding the smooth criminal sequence and joe pesci is convincing as a psychopathic all powerful drug lord.',\n",
       " 'why he wants mj dead so bad is beyond me.',\n",
       " 'because mj overheard his plans?',\n",
       " \"nah, joe pesci 's character ranted that he wanted people to know it is he who is supplying drugs etc so i dunno, maybe he just hates mj 's music.\",\n",
       " 'lots of cool things in this like mj turning into a car and a robot and the whole speed demon sequence.',\n",
       " 'also, the director must have had the patience of a saint when it came to filming the kiddy bad sequence as usually directors hate working with one kid let alone a whole bunch of them performing a complex dance scene.',\n",
       " 'bottom line, this movie is for people who like mj on one level or another (which i think is most people).',\n",
       " 'if not, then stay away.',\n",
       " \"it does try and give off a wholesome message and ironically mj 's bestest buddy in this movie is a girl!\",\n",
       " 'michael jackson is truly one of the most talented people ever to grace this planet but is he guilty?',\n",
       " 'well, with all the attention i have gave this subject....hmmm well i do not know because people can be different behind closed doors, i know this for a fact.',\n",
       " 'he is either an extremely nice but stupid guy or one of the most sickest liars.',\n",
       " 'i hope he is not the latter.']"
      ]
     },
     "execution_count": 5,
     "metadata": {},
     "output_type": "execute_result"
    }
   ],
   "source": [
    "from nltk import tokenize\n",
    "tokenize.sent_tokenize(sample)"
   ]
  },
  {
   "cell_type": "code",
   "execution_count": 6,
   "metadata": {},
   "outputs": [
    {
     "data": {
      "text/plain": [
       "['with all this stuff going down at the moment with mj i have started listening to his music, watching the odd documentary here and there, watched the wiz and watched moonwalker again.',\n",
       " 'maybe i just want to get a certain insight into this guy who i thought was really cool in the eighties just to maybe make up my mind whether he is guilty or innocent.',\n",
       " 'moonwalker is part biography, part feature film which i remember going to see at the cinema when it was originally released.',\n",
       " \"some of it has subtle messages about mj 's feeling towards the press and also the obvious message of drugs are bad m'kay.\",\n",
       " 'visually impressive but of course this is all about michael jackson so unless you remotely like mj in anyway then you are going to hate this and find it boring.',\n",
       " 'some may call mj an egotist for consenting to the making of this movie but mj and most of his fans would say that he made it for the fans which if true is really nice of him.',\n",
       " 'the actual feature film bit when it finally starts is only on for 20 minutes or so excluding the smooth criminal sequence and joe pesci is convincing as a psychopathic all powerful drug lord.',\n",
       " 'why he wants mj dead so bad is beyond me.',\n",
       " 'because mj overheard his plans?',\n",
       " \"nah, joe pesci 's character ranted that he wanted people to know it is he who is supplying drugs etc so i dunno, maybe he just hates mj 's music.\",\n",
       " 'lots of cool things in this like mj turning into a car and a robot and the whole speed demon sequence.',\n",
       " 'also, the director must have had the patience of a saint when it came to filming the kiddy bad sequence as usually directors hate working with one kid let alone a whole bunch of them performing a complex dance scene.',\n",
       " 'bottom line, this movie is for people who like mj on one level or another (which i think is most people).',\n",
       " 'if not, then stay away.',\n",
       " \"it does try and give off a wholesome message and ironically mj 's bestest buddy in this movie is a girl!\",\n",
       " 'michael jackson is truly one of the most talented people ever to grace this planet but is he guilty?',\n",
       " 'well, with all the attention i have gave this subject....hmmm well i do not know because people can be different behind closed doors, i know this for a fact.',\n",
       " 'he is either an extremely nice but stupid guy or one of the most sickest liars.',\n",
       " 'i hope he is not the latter.']"
      ]
     },
     "execution_count": 6,
     "metadata": {},
     "output_type": "execute_result"
    }
   ],
   "source": [
    "reviews = data['review'].apply(clean_str).apply(tokenize.sent_tokenize).tolist()\n",
    "reviews[0]"
   ]
  },
  {
   "cell_type": "code",
   "execution_count": 7,
   "metadata": {},
   "outputs": [
    {
     "name": "stderr",
     "output_type": "stream",
     "text": [
      "/usr/lib/python3/dist-packages/h5py/__init__.py:34: FutureWarning: Conversion of the second argument of issubdtype from `float` to `np.floating` is deprecated. In future, it will be treated as `np.float64 == np.dtype(float).type`.\n",
      "  from ._conv import register_converters as _register_converters\n",
      "Using TensorFlow backend.\n"
     ]
    }
   ],
   "source": [
    "from keras.preprocessing.text import Tokenizer, text_to_word_sequence\n",
    "from keras.preprocessing.sequence import pad_sequences\n",
    "from keras.utils.np_utils import to_categorical\n",
    "\n",
    "# small vocab, short sentences\n",
    "max_sents = 10       #15\n",
    "max_sent_length = 50 #100\n",
    "max_vocab = 2000     #20000\n",
    "embedding_dim = 100\n",
    "train_valid_split = 0.2\n",
    "\n",
    "\n",
    "tokenizer = Tokenizer(num_words=max_vocab)\n",
    "tokenizer.fit_on_texts(sum(reviews,[]))\n",
    "\n",
    "X = np.zeros((len(reviews), max_sents, max_sent_length), dtype = \"int32\")\n",
    "\n",
    "for i, review in enumerate(reviews):\n",
    "    for j, sentence in enumerate(review):\n",
    "        if j<max_sents:\n",
    "            tokens = text_to_word_sequence(sentence)\n",
    "            for k, token in enumerate(tokens):\n",
    "                if k<max_sent_length and tokenizer.word_index[token]<max_vocab:\n",
    "                    X[i,j,k]=tokenizer.word_index[token]\n",
    "\n",
    "\n",
    "\n",
    "y = to_categorical(data['sentiment'].values)\n"
   ]
  },
  {
   "cell_type": "code",
   "execution_count": 8,
   "metadata": {
    "collapsed": true
   },
   "outputs": [],
   "source": [
    "from sklearn.model_selection import train_test_split\n",
    "X_train, X_test, y_train, y_test = train_test_split(X, y, test_size=train_valid_split, random_state=42, stratify=y)"
   ]
  },
  {
   "cell_type": "code",
   "execution_count": 9,
   "metadata": {},
   "outputs": [
    {
     "data": {
      "text/plain": [
       "((20000, 10, 50), (5000, 10, 50))"
      ]
     },
     "execution_count": 9,
     "metadata": {},
     "output_type": "execute_result"
    }
   ],
   "source": [
    "X_train.shape, X_test.shape"
   ]
  },
  {
   "cell_type": "markdown",
   "metadata": {},
   "source": [
    "# Hierarchical BLSTM \n",
    "\n",
    "<img style=\"float: left;\" src=\"img_files/hblstm.png\">"
   ]
  },
  {
   "cell_type": "code",
   "execution_count": 10,
   "metadata": {},
   "outputs": [
    {
     "name": "stdout",
     "output_type": "stream",
     "text": [
      "_________________________________________________________________\n",
      "Layer (type)                 Output Shape              Param #   \n",
      "=================================================================\n",
      "input_2 (InputLayer)         (None, 10, 50)            0         \n",
      "_________________________________________________________________\n",
      "time_distributed_1 (TimeDist (None, 10, 200)           360900    \n",
      "_________________________________________________________________\n",
      "bidirectional_2 (Bidirection (None, 200)               240800    \n",
      "_________________________________________________________________\n",
      "dense_1 (Dense)              (None, 2)                 402       \n",
      "=================================================================\n",
      "Total params: 602,102\n",
      "Trainable params: 602,102\n",
      "Non-trainable params: 0\n",
      "_________________________________________________________________\n"
     ]
    }
   ],
   "source": [
    "from keras.models import Sequential, Model\n",
    "from keras.layers import Dense, Dropout, Flatten, Input, MaxPooling1D, Conv1D, Embedding, Bidirectional, LSTM, TimeDistributed\n",
    "from keras.layers.merge import Concatenate\n",
    "\n",
    "embedding_layer = Embedding(max_vocab + 1,\n",
    "                            embedding_dim,\n",
    "#                             weights=[embedding_matrix],\n",
    "                            input_length=max_sent_length,\n",
    "                            trainable=True)\n",
    "\n",
    "sentence_input = Input(shape=(max_sent_length,), dtype='int32')\n",
    "embedded_sequences = embedding_layer(sentence_input)\n",
    "l_lstm = Bidirectional(LSTM(100))(embedded_sequences)\n",
    "sentEncoder = Model(sentence_input, l_lstm)\n",
    "\n",
    "review_input = Input(shape=(max_sents, max_sent_length), dtype='int32')\n",
    "review_encoder = TimeDistributed(sentEncoder)(review_input)\n",
    "l_lstm_sent = Bidirectional(LSTM(100))(review_encoder)\n",
    "preds = Dense(2, activation='softmax')(l_lstm_sent)\n",
    "model = Model(review_input, preds)\n",
    "model.compile(loss=\"categorical_crossentropy\", optimizer=\"adam\", metrics=[\"categorical_accuracy\"])\n",
    "\n",
    "model.summary()"
   ]
  },
  {
   "cell_type": "code",
   "execution_count": 11,
   "metadata": {},
   "outputs": [
    {
     "name": "stdout",
     "output_type": "stream",
     "text": [
      "Train on 20000 samples, validate on 5000 samples\n",
      "Epoch 1/10\n",
      "20000/20000 [==============================] - 413s - loss: 0.4485 - categorical_accuracy: 0.7774 - val_loss: 0.3639 - val_categorical_accuracy: 0.8394\n",
      "Epoch 2/10\n",
      "20000/20000 [==============================] - 399s - loss: 0.3129 - categorical_accuracy: 0.8675 - val_loss: 0.3357 - val_categorical_accuracy: 0.8540\n",
      "Epoch 3/10\n",
      "20000/20000 [==============================] - 410s - loss: 0.2790 - categorical_accuracy: 0.8836 - val_loss: 0.3509 - val_categorical_accuracy: 0.8522\n",
      "Epoch 4/10\n",
      "20000/20000 [==============================] - 426s - loss: 0.2494 - categorical_accuracy: 0.8982 - val_loss: 0.3505 - val_categorical_accuracy: 0.8496\n",
      "Epoch 5/10\n",
      "20000/20000 [==============================] - 410s - loss: 0.2253 - categorical_accuracy: 0.9111 - val_loss: 0.3576 - val_categorical_accuracy: 0.8500\n",
      "Epoch 6/10\n",
      "20000/20000 [==============================] - 417s - loss: 0.1984 - categorical_accuracy: 0.9252 - val_loss: 0.4131 - val_categorical_accuracy: 0.8358\n",
      "Epoch 7/10\n",
      "20000/20000 [==============================] - 409s - loss: 0.1764 - categorical_accuracy: 0.9337 - val_loss: 0.4191 - val_categorical_accuracy: 0.8424\n",
      "Epoch 8/10\n",
      "20000/20000 [==============================] - 413s - loss: 0.1495 - categorical_accuracy: 0.9456 - val_loss: 0.4670 - val_categorical_accuracy: 0.8408\n",
      "Epoch 9/10\n",
      "20000/20000 [==============================] - 406s - loss: 0.1309 - categorical_accuracy: 0.9534 - val_loss: 0.4980 - val_categorical_accuracy: 0.8330\n",
      "Epoch 10/10\n",
      "20000/20000 [==============================] - 390s - loss: 0.1093 - categorical_accuracy: 0.9626 - val_loss: 0.5367 - val_categorical_accuracy: 0.8390\n"
     ]
    },
    {
     "data": {
      "text/plain": [
       "<keras.callbacks.History at 0x7f74690c8710>"
      ]
     },
     "execution_count": 11,
     "metadata": {},
     "output_type": "execute_result"
    }
   ],
   "source": [
    "from keras.callbacks import TensorBoard\n",
    "\n",
    "batch_size = 64\n",
    "num_epochs = 10\n",
    "\n",
    "tensorboard = TensorBoard(log_dir='./logs', histogram_freq=0,\n",
    "                          write_graph=True, write_images=False)\n",
    "\n",
    "model.fit(X_train, y_train, batch_size=batch_size, epochs=num_epochs,\n",
    "          validation_data=(X_test, y_test),  verbose =1, shuffle=True,\n",
    "          callbacks=[tensorboard])\n"
   ]
  },
  {
   "cell_type": "markdown",
   "metadata": {},
   "source": [
    "# Hierarchical BLSTM with attentions\n",
    "\n",
    "<img style=\"float: left;\" src=\"img_files/hblstm-att.png\">"
   ]
  },
  {
   "cell_type": "code",
   "execution_count": 12,
   "metadata": {},
   "outputs": [
    {
     "name": "stdout",
     "output_type": "stream",
     "text": [
      "____________________________________________________________________________________________________\n",
      "Layer (type)                     Output Shape          Param #     Connected to                     \n",
      "====================================================================================================\n",
      "input_4 (InputLayer)             (None, 10, 50)        0                                            \n",
      "____________________________________________________________________________________________________\n",
      "time_distributed_2 (TimeDistribu (None, 10, 10000)     363450      input_4[0][0]                    \n",
      "____________________________________________________________________________________________________\n",
      "bidirectional_4 (Bidirectional)  (None, 10, 200)       8080800     time_distributed_2[0][0]         \n",
      "____________________________________________________________________________________________________\n",
      "permute_3 (Permute)              (None, 200, 10)       0           bidirectional_4[0][0]            \n",
      "____________________________________________________________________________________________________\n",
      "dense_3 (Dense)                  (None, 200, 10)       110         permute_3[0][0]                  \n",
      "____________________________________________________________________________________________________\n",
      "permute_4 (Permute)              (None, 10, 200)       0           dense_3[0][0]                    \n",
      "____________________________________________________________________________________________________\n",
      "multiply_2 (Multiply)            (None, 10, 200)       0           bidirectional_4[0][0]            \n",
      "                                                                   permute_4[0][0]                  \n",
      "____________________________________________________________________________________________________\n",
      "flatten_2 (Flatten)              (None, 2000)          0           multiply_2[0][0]                 \n",
      "____________________________________________________________________________________________________\n",
      "dense_4 (Dense)                  (None, 2)             4002        flatten_2[0][0]                  \n",
      "====================================================================================================\n",
      "Total params: 8,448,362\n",
      "Trainable params: 8,448,362\n",
      "Non-trainable params: 0\n",
      "____________________________________________________________________________________________________\n"
     ]
    }
   ],
   "source": [
    "from keras.models import Sequential, Model\n",
    "from keras.layers import Dense, Dropout, Flatten, Input, MaxPool2D, Conv2D, Embedding, Bidirectional, LSTM,TimeDistributed, Reshape, merge, Permute, Multiply\n",
    "\n",
    "\n",
    "\n",
    "embedding_layer = Embedding(max_vocab + 1,\n",
    "                            embedding_dim,\n",
    "#                             weights=[embedding_matrix],\n",
    "                            input_length=max_sent_length,\n",
    "                            trainable=True)\n",
    "\n",
    "sentence_input = Input(shape=(max_sent_length,), dtype='int32')\n",
    "embedded_sequences = embedding_layer(sentence_input)\n",
    "l_lstm = Bidirectional(LSTM(100, return_sequences=True))(embedded_sequences)\n",
    "\n",
    "a_sent = Permute((2,1))(l_lstm)\n",
    "\n",
    "a_sent = Dense(max_sent_length, activation='softmax')(a_sent)\n",
    "a_sent_probs = Permute((2,1))(a_sent)\n",
    "\n",
    "a_mul_sent = Multiply()([l_lstm, a_sent_probs])\n",
    "a_mul_sent = Flatten()(a_mul_sent)\n",
    "\n",
    "# l_lstm_output = Dense(6, activation=\"softmax\")(a_mul_sent)\n",
    "\n",
    "sentEncoder = Model(sentence_input, a_mul_sent)\n",
    "\n",
    "review_input = Input(shape=(max_sents, max_sent_length), dtype='int32')\n",
    "review_encoder = TimeDistributed(sentEncoder)(review_input)\n",
    "l_lstm_sent = Bidirectional(LSTM(100, return_sequences=True))(review_encoder)\n",
    "a_rev = Permute((2,1))(l_lstm_sent)\n",
    "\n",
    "a_rev = Dense(max_sents, activation='softmax')(a_rev)\n",
    "a_probs_rev = Permute((2,1))(a_rev)\n",
    "\n",
    "a_mul_rev = Multiply()([l_lstm_sent, a_probs_rev])\n",
    "a_mul_rev = Flatten()(a_mul_rev)\n",
    "\n",
    "# model_output = Dense(6, activation=\"softmax\")(a_mul)\n",
    "\n",
    "\n",
    "preds = Dense(2, activation='softmax')(a_mul_rev)\n",
    "model = Model(review_input, preds)\n",
    "model.compile(loss=\"categorical_crossentropy\", optimizer=\"adam\", metrics=[\"categorical_accuracy\"])\n",
    "\n",
    "model.summary()"
   ]
  },
  {
   "cell_type": "markdown",
   "metadata": {},
   "source": [
    "<img style=\"float: left;\" src=\"img_files/hblstm-att.png\">"
   ]
  },
  {
   "cell_type": "code",
   "execution_count": 13,
   "metadata": {},
   "outputs": [
    {
     "name": "stdout",
     "output_type": "stream",
     "text": [
      "Train on 20000 samples, validate on 5000 samples\n",
      "Epoch 1/10\n",
      "20000/20000 [==============================] - 818s - loss: 0.4892 - categorical_accuracy: 0.7397 - val_loss: 0.3693 - val_categorical_accuracy: 0.8326\n",
      "Epoch 2/10\n",
      "20000/20000 [==============================] - 824s - loss: 0.3316 - categorical_accuracy: 0.8591 - val_loss: 0.3564 - val_categorical_accuracy: 0.8472\n",
      "Epoch 3/10\n",
      "20000/20000 [==============================] - 821s - loss: 0.2957 - categorical_accuracy: 0.8770 - val_loss: 0.3543 - val_categorical_accuracy: 0.8514\n",
      "Epoch 4/10\n",
      "20000/20000 [==============================] - 833s - loss: 0.2614 - categorical_accuracy: 0.8954 - val_loss: 0.3481 - val_categorical_accuracy: 0.8524\n",
      "Epoch 5/10\n",
      "20000/20000 [==============================] - 819s - loss: 0.2338 - categorical_accuracy: 0.9046 - val_loss: 0.3759 - val_categorical_accuracy: 0.8444\n",
      "Epoch 6/10\n",
      "20000/20000 [==============================] - 815s - loss: 0.2089 - categorical_accuracy: 0.9186 - val_loss: 0.3738 - val_categorical_accuracy: 0.8528\n",
      "Epoch 7/10\n",
      "20000/20000 [==============================] - 819s - loss: 0.1836 - categorical_accuracy: 0.9311 - val_loss: 0.4025 - val_categorical_accuracy: 0.8456\n",
      "Epoch 8/10\n",
      "20000/20000 [==============================] - 820s - loss: 0.1567 - categorical_accuracy: 0.9438 - val_loss: 0.4332 - val_categorical_accuracy: 0.8446\n",
      "Epoch 9/10\n",
      "20000/20000 [==============================] - 831s - loss: 0.1383 - categorical_accuracy: 0.9506 - val_loss: 0.4999 - val_categorical_accuracy: 0.8368\n",
      "Epoch 10/10\n",
      "20000/20000 [==============================] - 807s - loss: 0.1187 - categorical_accuracy: 0.9585 - val_loss: 0.5098 - val_categorical_accuracy: 0.8416\n"
     ]
    },
    {
     "data": {
      "text/plain": [
       "<keras.callbacks.History at 0x7f745dd7fbe0>"
      ]
     },
     "execution_count": 13,
     "metadata": {},
     "output_type": "execute_result"
    }
   ],
   "source": [
    "from keras.callbacks import TensorBoard\n",
    "\n",
    "batch_size = 64\n",
    "num_epochs = 10\n",
    "\n",
    "tensorboard = TensorBoard(log_dir='./logs', histogram_freq=0,\n",
    "                          write_graph=True, write_images=False)\n",
    "\n",
    "model.fit(X_train, y_train, batch_size=batch_size, epochs=num_epochs,\n",
    "          validation_data=(X_test, y_test),  verbose =1, shuffle=True,\n",
    "          callbacks=[tensorboard])\n"
   ]
  }
 ],
 "metadata": {
  "kernelspec": {
   "display_name": "Python 3",
   "language": "python",
   "name": "python3"
  },
  "language_info": {
   "codemirror_mode": {
    "name": "ipython",
    "version": 3
   },
   "file_extension": ".py",
   "mimetype": "text/x-python",
   "name": "python",
   "nbconvert_exporter": "python",
   "pygments_lexer": "ipython3",
   "version": "3.5.3"
  }
 },
 "nbformat": 4,
 "nbformat_minor": 2
}
